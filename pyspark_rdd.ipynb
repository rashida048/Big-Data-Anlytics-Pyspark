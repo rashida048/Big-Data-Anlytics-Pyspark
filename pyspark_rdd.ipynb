{
  "nbformat": 4,
  "nbformat_minor": 0,
  "metadata": {
    "colab": {
      "name": "pyspark_rdd.ipynb",
      "provenance": [],
      "authorship_tag": "ABX9TyOKwsMU5czkHp5V1nywou8k",
      "include_colab_link": true
    },
    "kernelspec": {
      "name": "python3",
      "display_name": "Python 3"
    },
    "language_info": {
      "name": "python"
    }
  },
  "cells": [
    {
      "cell_type": "markdown",
      "metadata": {
        "id": "view-in-github",
        "colab_type": "text"
      },
      "source": [
        "<a href=\"https://colab.research.google.com/github/rashida048/Big-Data-Anlytics-Pyspark/blob/main/pyspark_rdd.ipynb\" target=\"_parent\"><img src=\"https://colab.research.google.com/assets/colab-badge.svg\" alt=\"Open In Colab\"/></a>"
      ]
    },
    {
      "cell_type": "code",
      "execution_count": null,
      "metadata": {
        "colab": {
          "base_uri": "https://localhost:8080/"
        },
        "id": "cTVz_J1BUa9P",
        "outputId": "f5b1e565-ae3d-40ac-ac56-85fcec757f2c"
      },
      "outputs": [
        {
          "output_type": "stream",
          "name": "stdout",
          "text": [
            "Collecting pyspark\n",
            "  Downloading pyspark-3.2.1.tar.gz (281.4 MB)\n",
            "\u001b[K     |████████████████████████████████| 281.4 MB 35 kB/s \n",
            "\u001b[?25hCollecting py4j==0.10.9.3\n",
            "  Downloading py4j-0.10.9.3-py2.py3-none-any.whl (198 kB)\n",
            "\u001b[K     |████████████████████████████████| 198 kB 63.4 MB/s \n",
            "\u001b[?25hBuilding wheels for collected packages: pyspark\n",
            "  Building wheel for pyspark (setup.py) ... \u001b[?25l\u001b[?25hdone\n",
            "  Created wheel for pyspark: filename=pyspark-3.2.1-py2.py3-none-any.whl size=281853642 sha256=7a7b9a6509a5bbefec8e8bc64744547d97e688752204db7298f3b9ac32ed4d6d\n",
            "  Stored in directory: /root/.cache/pip/wheels/9f/f5/07/7cd8017084dce4e93e84e92efd1e1d5334db05f2e83bcef74f\n",
            "Successfully built pyspark\n",
            "Installing collected packages: py4j, pyspark\n",
            "Successfully installed py4j-0.10.9.3 pyspark-3.2.1\n"
          ]
        }
      ],
      "source": [
        "pip install pyspark"
      ]
    },
    {
      "cell_type": "code",
      "source": [
        "import pyspark\n",
        "from pyspark import SparkContext"
      ],
      "metadata": {
        "id": "q7fSH5qkVlw_"
      },
      "execution_count": null,
      "outputs": []
    },
    {
      "cell_type": "code",
      "source": [
        "sc = SparkContext.getOrCreate()"
      ],
      "metadata": {
        "id": "aWTsERvFVl1n"
      },
      "execution_count": null,
      "outputs": []
    },
    {
      "cell_type": "code",
      "source": [
        "rdd_small = sc.parallelize([3, 1, 12, 6, 8, 10, 14, 19])"
      ],
      "metadata": {
        "id": "1N9EWyt5qmVQ"
      },
      "execution_count": null,
      "outputs": []
    },
    {
      "cell_type": "code",
      "source": [
        "rdd_small"
      ],
      "metadata": {
        "colab": {
          "base_uri": "https://localhost:8080/"
        },
        "id": "doKs2e7XtyQw",
        "outputId": "b1970367-997d-45e1-c1c6-c01ff209ddd9"
      },
      "execution_count": null,
      "outputs": [
        {
          "output_type": "execute_result",
          "data": {
            "text/plain": [
              "ParallelCollectionRDD[0] at readRDDFromFile at PythonRDD.scala:274"
            ]
          },
          "metadata": {},
          "execution_count": 5
        }
      ]
    },
    {
      "cell_type": "code",
      "source": [
        "rdd_small.collect()"
      ],
      "metadata": {
        "colab": {
          "base_uri": "https://localhost:8080/"
        },
        "id": "lAvnllHbq4X4",
        "outputId": "2dd04b58-ecb9-45d5-94e4-cf017256f796"
      },
      "execution_count": null,
      "outputs": [
        {
          "output_type": "execute_result",
          "data": {
            "text/plain": [
              "[3, 1, 12, 6, 8, 10, 14, 19]"
            ]
          },
          "metadata": {},
          "execution_count": 6
        }
      ]
    },
    {
      "cell_type": "code",
      "source": [
        "rdd_set = sc.parallelize([[2, 12, 5, 19, 21],\n",
        "                         [10, 19, 5, 21, 8],\n",
        "                         [34, 21, 14, 8, 10],\n",
        "                         [110, 89, 90, 134, 24],\n",
        "                          [23, 119, 234, 34, 56]])"
      ],
      "metadata": {
        "id": "k7gzJNZgtpII"
      },
      "execution_count": null,
      "outputs": []
    },
    {
      "cell_type": "code",
      "source": [
        "rdd_set.first()"
      ],
      "metadata": {
        "colab": {
          "base_uri": "https://localhost:8080/"
        },
        "id": "fs59OafO9YE7",
        "outputId": "b00e1e9f-f852-44fd-f141-82cf660501b6"
      },
      "execution_count": null,
      "outputs": [
        {
          "output_type": "execute_result",
          "data": {
            "text/plain": [
              "[2, 12, 5, 19, 21]"
            ]
          },
          "metadata": {},
          "execution_count": 8
        }
      ]
    },
    {
      "cell_type": "code",
      "source": [
        "rdd_set.take(3)"
      ],
      "metadata": {
        "colab": {
          "base_uri": "https://localhost:8080/"
        },
        "id": "uVONTUof9YG6",
        "outputId": "30667040-b4fc-4da3-939b-20d433ad0fe1"
      },
      "execution_count": null,
      "outputs": [
        {
          "output_type": "execute_result",
          "data": {
            "text/plain": [
              "[[2, 12, 5, 19, 21], [10, 19, 5, 21, 8], [34, 21, 14, 8, 10]]"
            ]
          },
          "metadata": {},
          "execution_count": 9
        }
      ]
    },
    {
      "cell_type": "code",
      "source": [
        ""
      ],
      "metadata": {
        "id": "eQUfYRXL9YKP"
      },
      "execution_count": null,
      "outputs": []
    },
    {
      "cell_type": "code",
      "source": [
        "lines = sc.textFile(\"usa.txt\")"
      ],
      "metadata": {
        "id": "5_U8OzckQEGn"
      },
      "execution_count": null,
      "outputs": []
    },
    {
      "cell_type": "code",
      "source": [
        "lines.take(2)"
      ],
      "metadata": {
        "colab": {
          "base_uri": "https://localhost:8080/"
        },
        "id": "Di7p2w9HB0wc",
        "outputId": "ae21f897-09fb-4d23-8787-45ca40902432"
      },
      "execution_count": null,
      "outputs": [
        {
          "output_type": "execute_result",
          "data": {
            "text/plain": [
              "[\"The United States of America (U.S.A. or USA), commonly known as the United States (U.S. or US) or America, is a country primarily located in North America. It consists of 50 states, a federal district, five major unincorporated territories, 326 Indian reservations, and nine minor outlying islands.[h] At nearly 3.8 million square miles (9.8 million square kilometers), it is the world's third- or fourth-largest country by geographic area.[c] The United States shares land borders with Canada to the north and Mexico to the south as well as maritime borders with the Bahamas, Cuba, Russia, and other countries.[i] With a population of more than 331 million people,[j] it is the third most populous country in the world. The national capital is Washington, D.C., and the most populous city and financial center is New York City.\",\n",
              " '']"
            ]
          },
          "metadata": {},
          "execution_count": 11
        }
      ]
    },
    {
      "cell_type": "code",
      "source": [
        "lines.take(4)"
      ],
      "metadata": {
        "colab": {
          "base_uri": "https://localhost:8080/"
        },
        "id": "oPOq58QOQHd6",
        "outputId": "a6420b73-a922-4956-ac61-3dc539a8822e"
      },
      "execution_count": null,
      "outputs": [
        {
          "output_type": "execute_result",
          "data": {
            "text/plain": [
              "[\"The United States of America (U.S.A. or USA), commonly known as the United States (U.S. or US) or America, is a country primarily located in North America. It consists of 50 states, a federal district, five major unincorporated territories, 326 Indian reservations, and nine minor outlying islands.[h] At nearly 3.8 million square miles (9.8 million square kilometers), it is the world's third- or fourth-largest country by geographic area.[c] The United States shares land borders with Canada to the north and Mexico to the south as well as maritime borders with the Bahamas, Cuba, Russia, and other countries.[i] With a population of more than 331 million people,[j] it is the third most populous country in the world. The national capital is Washington, D.C., and the most populous city and financial center is New York City.\",\n",
              " '',\n",
              " \"Paleo-Indians migrated from Siberia to the North American mainland at least 12,000 years ago, and European colonization began in the 16th century. The United States emerged from the Thirteen British Colonies established along the East Coast. Disputes with Great Britain over taxation and political representation led to the American Revolutionary War (1775–1783), which established the nation's independence. In the late 18th century, the U.S. began expanding across North America, gradually obtaining new territories, sometimes through war, frequently displacing Native Americans, and admitting new states. This was strongly related to belief in manifest destiny, and by 1848, the United States spanned the continent from east to west. Slavery was legal in the southern United States until the second half of the 19th century, when the American Civil War led to its abolition. The Spanish–American War and World War I established the U.S. as a world power, and the aftermath of World War II left the United States and the Soviet Union as the world's two superpowers. During the Cold War, both sides fought in the Korean and Vietnam Wars but avoided direct military conflict. They competed in the Space Race, culminating in the 1969 American spaceflight that first landed humans on the Moon. The Soviet Union's dissolution in 1991 ended the Cold War, leaving the United States as the world's sole superpower.\",\n",
              " '']"
            ]
          },
          "metadata": {},
          "execution_count": 12
        }
      ]
    },
    {
      "cell_type": "code",
      "source": [
        "words = lines.flatMap(lambda x: x.split(' '))\n",
        "words.take(10)"
      ],
      "metadata": {
        "colab": {
          "base_uri": "https://localhost:8080/"
        },
        "id": "ImTluRdlQIad",
        "outputId": "49ef1c71-ee91-4cfc-c0ca-7ac8144720ed"
      },
      "execution_count": null,
      "outputs": [
        {
          "output_type": "execute_result",
          "data": {
            "text/plain": [
              "['The',\n",
              " 'United',\n",
              " 'States',\n",
              " 'of',\n",
              " 'America',\n",
              " '(U.S.A.',\n",
              " 'or',\n",
              " 'USA),',\n",
              " 'commonly',\n",
              " 'known']"
            ]
          },
          "metadata": {},
          "execution_count": 13
        }
      ]
    },
    {
      "cell_type": "code",
      "source": [
        "wordsAsTuples = words.map(lambda x: (x.lower(), 1))"
      ],
      "metadata": {
        "id": "MwivUXRQQUBR"
      },
      "execution_count": null,
      "outputs": []
    },
    {
      "cell_type": "code",
      "source": [
        "wordsAsTuples.take(4)"
      ],
      "metadata": {
        "colab": {
          "base_uri": "https://localhost:8080/"
        },
        "id": "VbswERkaQZap",
        "outputId": "907b4e1d-cbf6-49d1-e612-cd3bf7b9847d"
      },
      "execution_count": null,
      "outputs": [
        {
          "output_type": "execute_result",
          "data": {
            "text/plain": [
              "[('the', 1), ('united', 1), ('states', 1), ('of', 1)]"
            ]
          },
          "metadata": {},
          "execution_count": 15
        }
      ]
    },
    {
      "cell_type": "code",
      "source": [
        "counts = wordsAsTuples.reduceByKey(lambda x, y: x+y)"
      ],
      "metadata": {
        "id": "yuzsZwuaQb-J"
      },
      "execution_count": null,
      "outputs": []
    },
    {
      "cell_type": "code",
      "source": [
        "counts.take(3)"
      ],
      "metadata": {
        "colab": {
          "base_uri": "https://localhost:8080/"
        },
        "id": "aEKtn6aeQggW",
        "outputId": "82350f04-270c-4287-c6e8-c0752c1dd1d9"
      },
      "execution_count": null,
      "outputs": [
        {
          "output_type": "execute_result",
          "data": {
            "text/plain": [
              "[('united', 14), ('of', 20), ('america', 1)]"
            ]
          },
          "metadata": {},
          "execution_count": 17
        }
      ]
    },
    {
      "cell_type": "code",
      "source": [
        "counts.top(20, lambda x: x[1])"
      ],
      "metadata": {
        "colab": {
          "base_uri": "https://localhost:8080/"
        },
        "id": "B_BCyHukQm4-",
        "outputId": "3909753a-059b-4c87-919a-55ba2ee2f5ef"
      },
      "execution_count": null,
      "outputs": [
        {
          "output_type": "execute_result",
          "data": {
            "text/plain": [
              "[('the', 55),\n",
              " ('and', 24),\n",
              " ('of', 20),\n",
              " ('united', 14),\n",
              " ('is', 13),\n",
              " ('in', 13),\n",
              " ('a', 13),\n",
              " ('states', 12),\n",
              " ('it', 9),\n",
              " ('to', 7),\n",
              " ('as', 6),\n",
              " (\"world's\", 6),\n",
              " ('by', 6),\n",
              " ('world', 5),\n",
              " ('with', 5),\n",
              " ('american', 5),\n",
              " ('war', 5),\n",
              " ('or', 4),\n",
              " ('north', 4),\n",
              " ('its', 4)]"
            ]
          },
          "metadata": {},
          "execution_count": 100
        }
      ]
    },
    {
      "cell_type": "code",
      "source": [
        "stop = ['', 'the', 'and', 'of', 'is', 'in', 'a', 'it', 'to', 'as', 'by', 'with', 'or', 'its', 'from', 'at']"
      ],
      "metadata": {
        "id": "UmIj9NMG9Tjg"
      },
      "execution_count": null,
      "outputs": []
    },
    {
      "cell_type": "code",
      "source": [
        "words_short = counts.filter(lambda x: x[0] not in stop)"
      ],
      "metadata": {
        "id": "U-JycBR479Qw"
      },
      "execution_count": null,
      "outputs": []
    },
    {
      "cell_type": "code",
      "source": [
        "words_short.top(20, lambda x: x[1])"
      ],
      "metadata": {
        "colab": {
          "base_uri": "https://localhost:8080/"
        },
        "id": "bG2NZ6Mc79UF",
        "outputId": "c05111b4-d313-4a71-d85d-418e69db456f"
      },
      "execution_count": null,
      "outputs": [
        {
          "output_type": "execute_result",
          "data": {
            "text/plain": [
              "[('united', 14),\n",
              " ('states', 12),\n",
              " (\"world's\", 6),\n",
              " ('world', 5),\n",
              " ('american', 5),\n",
              " ('war', 5),\n",
              " ('north', 4),\n",
              " ('country', 3),\n",
              " ('population', 3),\n",
              " ('new', 3),\n",
              " ('established', 3),\n",
              " ('war,', 3),\n",
              " ('million', 3),\n",
              " ('military', 3),\n",
              " ('international', 3),\n",
              " ('largest', 3),\n",
              " ('america,', 2),\n",
              " ('states,', 2),\n",
              " ('square', 2),\n",
              " ('other', 2)]"
            ]
          },
          "metadata": {},
          "execution_count": 111
        }
      ]
    },
    {
      "cell_type": "code",
      "source": [
        ""
      ],
      "metadata": {
        "id": "xKKGp3GY79kP"
      },
      "execution_count": null,
      "outputs": []
    },
    {
      "cell_type": "code",
      "source": [
        "numbers_only = wordsAsTuples.groupByKey().map(lambda x: sum(x[1]))"
      ],
      "metadata": {
        "id": "ZB3ETlOQiZHM"
      },
      "execution_count": null,
      "outputs": []
    },
    {
      "cell_type": "code",
      "source": [
        "numbers_only.take(10)"
      ],
      "metadata": {
        "colab": {
          "base_uri": "https://localhost:8080/"
        },
        "id": "lLUF8ghVeDTe",
        "outputId": "debb610f-0e94-4b24-db6c-b816ab01fe49"
      },
      "execution_count": null,
      "outputs": [
        {
          "output_type": "execute_result",
          "data": {
            "text/plain": [
              "[14, 20, 1, 1, 1, 6, 2, 13, 3, 1]"
            ]
          },
          "metadata": {},
          "execution_count": 20
        }
      ]
    },
    {
      "cell_type": "code",
      "source": [
        "total_words = numbers_only.reduce(lambda x, y: x+y)"
      ],
      "metadata": {
        "id": "9Wg6hZyFeCAe"
      },
      "execution_count": null,
      "outputs": []
    },
    {
      "cell_type": "code",
      "source": [
        "total_words"
      ],
      "metadata": {
        "colab": {
          "base_uri": "https://localhost:8080/"
        },
        "id": "KMVABrKSeBiB",
        "outputId": "66c4ba7f-564b-4053-b622-b488f50f6f0d"
      },
      "execution_count": null,
      "outputs": [
        {
          "output_type": "execute_result",
          "data": {
            "text/plain": [
              "575"
            ]
          },
          "metadata": {},
          "execution_count": 22
        }
      ]
    },
    {
      "cell_type": "code",
      "source": [
        "rdd_map = sc.parallelize([(\"a\", [1, 2, 3, 4]), (\"b\", [10, 2, 8, 1])])"
      ],
      "metadata": {
        "id": "3GOUDosQeSGC"
      },
      "execution_count": null,
      "outputs": []
    },
    {
      "cell_type": "code",
      "source": [
        "rdd_map.mapValues(lambda x: sum(x)).collect()"
      ],
      "metadata": {
        "colab": {
          "base_uri": "https://localhost:8080/"
        },
        "id": "orpW2QUkeSH3",
        "outputId": "829e7164-ed34-42f9-d73a-a0264512d52c"
      },
      "execution_count": null,
      "outputs": [
        {
          "output_type": "execute_result",
          "data": {
            "text/plain": [
              "[('a', 10), ('b', 21)]"
            ]
          },
          "metadata": {},
          "execution_count": 24
        }
      ]
    },
    {
      "cell_type": "code",
      "source": [
        ""
      ],
      "metadata": {
        "id": "kwpuo_c4gWIF"
      },
      "execution_count": null,
      "outputs": []
    },
    {
      "cell_type": "code",
      "source": [
        "rdd_1 = sc.parallelize([(\"a\", 3), (\"n\", 10), (\"s\", 5), (\"l\", 12)])"
      ],
      "metadata": {
        "id": "y-4SGEkwgWSb"
      },
      "execution_count": null,
      "outputs": []
    },
    {
      "cell_type": "code",
      "source": [
        "rdd_1.mapValues(lambda x: x/2).collect()"
      ],
      "metadata": {
        "colab": {
          "base_uri": "https://localhost:8080/"
        },
        "id": "jOiqsfHOgq-U",
        "outputId": "a90a4673-0070-4702-bc79-7f8f14997f61"
      },
      "execution_count": null,
      "outputs": [
        {
          "output_type": "execute_result",
          "data": {
            "text/plain": [
              "[('a', 1.5), ('n', 5.0), ('s', 2.5), ('l', 6.0)]"
            ]
          },
          "metadata": {},
          "execution_count": 73
        }
      ]
    },
    {
      "cell_type": "code",
      "source": [
        ""
      ],
      "metadata": {
        "id": "asjZzpiFgq_8"
      },
      "execution_count": null,
      "outputs": []
    },
    {
      "cell_type": "code",
      "source": [
        ""
      ],
      "metadata": {
        "id": "Vdpn9DRFgrDU"
      },
      "execution_count": null,
      "outputs": []
    },
    {
      "cell_type": "code",
      "source": [
        "sc.parallelize([1, 2, 1, 3, 2, 4, 1, 4, 4]).countByValue()"
      ],
      "metadata": {
        "colab": {
          "base_uri": "https://localhost:8080/"
        },
        "id": "uwoN1Df5eSLX",
        "outputId": "55feb124-8a67-4065-b49d-3b2894585a22"
      },
      "execution_count": null,
      "outputs": [
        {
          "output_type": "execute_result",
          "data": {
            "text/plain": [
              "defaultdict(int, {1: 3, 2: 2, 3: 1, 4: 3})"
            ]
          },
          "metadata": {},
          "execution_count": 25
        }
      ]
    },
    {
      "cell_type": "markdown",
      "source": [
        "AggregateByKey"
      ],
      "metadata": {
        "id": "hO57YXiG0St-"
      }
    },
    {
      "cell_type": "code",
      "source": [
        "rdd = sc.parallelize([(\"c1\", \"p1\"), (\"c2\", \"p1\"), (\"c1\", \"p1\") , (\"c2\", \"p2\") , (\"c2\", \"p3\")])\n",
        "rdd.collect()"
      ],
      "metadata": {
        "colab": {
          "base_uri": "https://localhost:8080/"
        },
        "id": "r6_lhJOh1Aaf",
        "outputId": "0c793928-ff92-4ab2-c9a5-e28e1dd35b48"
      },
      "execution_count": null,
      "outputs": [
        {
          "output_type": "execute_result",
          "data": {
            "text/plain": [
              "[('c1', 'p1'), ('c2', 'p1'), ('c1', 'p1'), ('c2', 'p2'), ('c2', 'p3')]"
            ]
          },
          "metadata": {},
          "execution_count": 26
        }
      ]
    },
    {
      "cell_type": "code",
      "source": [
        "def mySequenceFunction(x, y):\n",
        "  x.add(y)\n",
        "  return x \n",
        "\n",
        "def myCombinerFunction(x, y): \n",
        "  x.update(y)\n",
        "  return x \n",
        "\n",
        "rdd.aggregateByKey(set([]), mySequenceFunction, myCombinerFunction).collect()"
      ],
      "metadata": {
        "colab": {
          "base_uri": "https://localhost:8080/"
        },
        "id": "2Z2cmyhC0FPh",
        "outputId": "02e9e420-c241-4aad-edaf-4ddcab7aede7"
      },
      "execution_count": null,
      "outputs": [
        {
          "output_type": "execute_result",
          "data": {
            "text/plain": [
              "[('c1', {'p1'}), ('c2', {'p1', 'p2', 'p3'})]"
            ]
          },
          "metadata": {},
          "execution_count": 27
        }
      ]
    },
    {
      "cell_type": "code",
      "source": [
        "data = sc.parallelize([(\"p\",5),(\"q\",0),(\"r\", 10),(\"q\",3)])"
      ],
      "metadata": {
        "id": "I4QxKHL-0GPw"
      },
      "execution_count": null,
      "outputs": []
    },
    {
      "cell_type": "code",
      "source": [
        "data.getNumPartitions()"
      ],
      "metadata": {
        "colab": {
          "base_uri": "https://localhost:8080/"
        },
        "id": "DEfeHB434G8v",
        "outputId": "42c809fa-002b-4438-c60e-33ffc8903369"
      },
      "execution_count": null,
      "outputs": [
        {
          "output_type": "execute_result",
          "data": {
            "text/plain": [
              "2"
            ]
          },
          "metadata": {},
          "execution_count": 75
        }
      ]
    },
    {
      "cell_type": "code",
      "source": [
        "data.glom().collect()"
      ],
      "metadata": {
        "colab": {
          "base_uri": "https://localhost:8080/"
        },
        "id": "IWLQMLl951E7",
        "outputId": "111262fd-d84e-4cea-e0be-cbe32c63681f"
      },
      "execution_count": null,
      "outputs": [
        {
          "output_type": "execute_result",
          "data": {
            "text/plain": [
              "[[('a', 1), ('b', 2)], [('a', 2), ('b', 3)]]"
            ]
          },
          "metadata": {},
          "execution_count": 30
        }
      ]
    },
    {
      "cell_type": "code",
      "source": [
        "data.aggregateByKey(0, lambda acc, val: acc+val, lambda acc1,acc2: acc1+acc2).collect()"
      ],
      "metadata": {
        "colab": {
          "base_uri": "https://localhost:8080/"
        },
        "id": "0wdW7YIA45xV",
        "outputId": "876435e6-a495-4c3b-c66d-67f5065e780a"
      },
      "execution_count": null,
      "outputs": [
        {
          "output_type": "execute_result",
          "data": {
            "text/plain": [
              "[('b', 5), ('a', 3)]"
            ]
          },
          "metadata": {},
          "execution_count": 31
        }
      ]
    },
    {
      "cell_type": "code",
      "source": [
        ""
      ],
      "metadata": {
        "id": "fN9bnj3g47iB"
      },
      "execution_count": null,
      "outputs": []
    },
    {
      "cell_type": "code",
      "source": [
        ""
      ],
      "metadata": {
        "id": "9OsgnjQq45gF"
      },
      "execution_count": null,
      "outputs": []
    },
    {
      "cell_type": "code",
      "source": [
        "counts.sortByKey().take(10)"
      ],
      "metadata": {
        "colab": {
          "base_uri": "https://localhost:8080/"
        },
        "id": "0nYj-0vciZDh",
        "outputId": "4cbbc655-1c1a-4eb2-f8df-58fa50a125b8"
      },
      "execution_count": null,
      "outputs": [
        {
          "output_type": "execute_result",
          "data": {
            "text/plain": [
              "[('', 3),\n",
              " ('(1775–1783),', 1),\n",
              " ('(9.8', 1),\n",
              " ('(u.s.', 1),\n",
              " ('(u.s.a.', 1),\n",
              " ('12,000', 1),\n",
              " ('16th', 1),\n",
              " ('1848,', 1),\n",
              " ('18th', 1),\n",
              " ('1969', 1)]"
            ]
          },
          "metadata": {},
          "execution_count": 32
        }
      ]
    },
    {
      "cell_type": "code",
      "source": [
        "counts.sortByKey(False).take(10)"
      ],
      "metadata": {
        "colab": {
          "base_uri": "https://localhost:8080/"
        },
        "id": "Oy9Wy8oyiZBY",
        "outputId": "0488aa76-7368-4f05-e8b6-5252a4dcaceb"
      },
      "execution_count": null,
      "outputs": [
        {
          "output_type": "execute_result",
          "data": {
            "text/plain": [
              "[('york', 1),\n",
              " ('years', 1),\n",
              " ('world.', 1),\n",
              " ('world,', 1),\n",
              " (\"world's\", 6),\n",
              " ('world', 5),\n",
              " ('with', 5),\n",
              " ('which', 1),\n",
              " ('when', 1),\n",
              " ('west.', 1)]"
            ]
          },
          "metadata": {},
          "execution_count": 33
        }
      ]
    },
    {
      "cell_type": "code",
      "source": [
        "r1 = sc.parallelize([('a', 1), ('B', 2), ('c', 3), ('D', 4), ('e', 5)])"
      ],
      "metadata": {
        "id": "Qm0UVgt2iY_T"
      },
      "execution_count": null,
      "outputs": []
    },
    {
      "cell_type": "code",
      "source": [
        "r1.sortByKey().collect()"
      ],
      "metadata": {
        "colab": {
          "base_uri": "https://localhost:8080/"
        },
        "id": "e60udh77uJ1S",
        "outputId": "1259961d-812b-4a78-c265-ab74e81a731f"
      },
      "execution_count": null,
      "outputs": [
        {
          "output_type": "execute_result",
          "data": {
            "text/plain": [
              "[('B', 2), ('D', 4), ('a', 1), ('c', 3), ('e', 5)]"
            ]
          },
          "metadata": {},
          "execution_count": 79
        }
      ]
    },
    {
      "cell_type": "code",
      "source": [
        "r1.sortByKey(True, keyfunc=lambda k: k.upper()).collect()"
      ],
      "metadata": {
        "colab": {
          "base_uri": "https://localhost:8080/"
        },
        "id": "gCQajeDLuJ4n",
        "outputId": "46a75171-c6a4-45d9-87df-0e013f27c57d"
      },
      "execution_count": null,
      "outputs": [
        {
          "output_type": "execute_result",
          "data": {
            "text/plain": [
              "[('a', 1), ('B', 2), ('c', 3), ('D', 4), ('e', 5)]"
            ]
          },
          "metadata": {},
          "execution_count": 88
        }
      ]
    },
    {
      "cell_type": "code",
      "source": [
        "r1.extend([('F', 6), ('G', 7), ('h', 8)])"
      ],
      "metadata": {
        "id": "wVOObES-iY9I"
      },
      "execution_count": null,
      "outputs": []
    },
    {
      "cell_type": "code",
      "source": [
        "r1"
      ],
      "metadata": {
        "colab": {
          "base_uri": "https://localhost:8080/"
        },
        "id": "j4C-QD6MiY6x",
        "outputId": "1ceda966-703b-4cd1-d5b6-4f8cc0c64e2a"
      },
      "execution_count": null,
      "outputs": [
        {
          "output_type": "execute_result",
          "data": {
            "text/plain": [
              "[('a', 1),\n",
              " ('B', 2),\n",
              " ('c', 3),\n",
              " ('D', 4),\n",
              " ('e', 5),\n",
              " ('F', 6),\n",
              " ('G', 7),\n",
              " ('h', 8)]"
            ]
          },
          "metadata": {},
          "execution_count": 36
        }
      ]
    },
    {
      "cell_type": "code",
      "source": [
        "sc.parallelize(r1).sortByKey(True, 3, keyfunc=lambda k: k.upper()).collect()"
      ],
      "metadata": {
        "colab": {
          "base_uri": "https://localhost:8080/"
        },
        "id": "p-UvXGE_kQqr",
        "outputId": "247cb812-9142-42c4-f473-e1548a56e0f1"
      },
      "execution_count": null,
      "outputs": [
        {
          "output_type": "execute_result",
          "data": {
            "text/plain": [
              "[('a', 1),\n",
              " ('B', 2),\n",
              " ('c', 3),\n",
              " ('D', 4),\n",
              " ('e', 5),\n",
              " ('F', 6),\n",
              " ('G', 7),\n",
              " ('h', 8)]"
            ]
          },
          "metadata": {},
          "execution_count": 37
        }
      ]
    },
    {
      "cell_type": "code",
      "source": [
        ""
      ],
      "metadata": {
        "id": "dZmhs6FHkQs1"
      },
      "execution_count": null,
      "outputs": []
    },
    {
      "cell_type": "code",
      "source": [
        ""
      ],
      "metadata": {
        "id": "Y8LXrKNkkQvR"
      },
      "execution_count": null,
      "outputs": []
    },
    {
      "cell_type": "code",
      "source": [
        ""
      ],
      "metadata": {
        "id": "UTHO5lJpkQyu"
      },
      "execution_count": null,
      "outputs": []
    },
    {
      "cell_type": "code",
      "source": [
        "counts.filter(lambda x: x[0] != '').top(10, lambda x: x[1])"
      ],
      "metadata": {
        "colab": {
          "base_uri": "https://localhost:8080/"
        },
        "id": "zhZQNGS5QuWh",
        "outputId": "a9731186-b8a6-4dbf-fe9a-6475392d463a"
      },
      "execution_count": null,
      "outputs": [
        {
          "output_type": "execute_result",
          "data": {
            "text/plain": [
              "[('the', 55),\n",
              " ('and', 24),\n",
              " ('of', 20),\n",
              " ('united', 14),\n",
              " ('is', 13),\n",
              " ('in', 13),\n",
              " ('a', 13),\n",
              " ('states', 12),\n",
              " ('it', 9),\n",
              " ('to', 7)]"
            ]
          },
          "metadata": {},
          "execution_count": 38
        }
      ]
    },
    {
      "cell_type": "code",
      "source": [
        "sc.parallelize([12, 100, 122, 34, 56, 81, 89]).top(2)"
      ],
      "metadata": {
        "colab": {
          "base_uri": "https://localhost:8080/"
        },
        "id": "_p46NTxpQ37s",
        "outputId": "06ee0900-18d8-4839-b2a3-e5a26b4939bb"
      },
      "execution_count": null,
      "outputs": [
        {
          "output_type": "execute_result",
          "data": {
            "text/plain": [
              "[122, 100]"
            ]
          },
          "metadata": {},
          "execution_count": 39
        }
      ]
    },
    {
      "cell_type": "code",
      "source": [
        "sc.parallelize([12, 100, 122, 34, 56, 81, 89]).top(2, key=str)"
      ],
      "metadata": {
        "colab": {
          "base_uri": "https://localhost:8080/"
        },
        "id": "aZv1VsAhSPMe",
        "outputId": "315b4582-a4f5-4456-e2b5-146d5e46abe5"
      },
      "execution_count": null,
      "outputs": [
        {
          "output_type": "execute_result",
          "data": {
            "text/plain": [
              "[89, 81]"
            ]
          },
          "metadata": {},
          "execution_count": 40
        }
      ]
    },
    {
      "cell_type": "code",
      "source": [
        "rdd1 = sc.parallelize([('az', 50), ('zq',15 ), ('ap', 10), ('ca', 121),\n",
        "                       ('la', 92), ('mn', 39)])"
      ],
      "metadata": {
        "id": "ZFC38GL2SaaU"
      },
      "execution_count": null,
      "outputs": []
    },
    {
      "cell_type": "code",
      "source": [
        "rdd1.top(3)"
      ],
      "metadata": {
        "colab": {
          "base_uri": "https://localhost:8080/"
        },
        "id": "fdjsYX5HTQx6",
        "outputId": "69415b6d-5180-47ce-ed90-e5187b6133ec"
      },
      "execution_count": null,
      "outputs": [
        {
          "output_type": "execute_result",
          "data": {
            "text/plain": [
              "[('zq', 15), ('mn', 39), ('la', 92)]"
            ]
          },
          "metadata": {},
          "execution_count": 42
        }
      ]
    },
    {
      "cell_type": "code",
      "source": [
        "rdd1.top(3, key = str)"
      ],
      "metadata": {
        "colab": {
          "base_uri": "https://localhost:8080/"
        },
        "id": "M4XESy6VTUmT",
        "outputId": "9a7d1e92-46be-4419-9825-02d4b9fc390a"
      },
      "execution_count": null,
      "outputs": [
        {
          "output_type": "execute_result",
          "data": {
            "text/plain": [
              "[('zq', 15), ('mn', 39), ('la', 92)]"
            ]
          },
          "metadata": {},
          "execution_count": 43
        }
      ]
    },
    {
      "cell_type": "code",
      "source": [
        "rdd1.top(3, key = lambda x: x[1])"
      ],
      "metadata": {
        "colab": {
          "base_uri": "https://localhost:8080/"
        },
        "id": "8s_XJPHvSp2w",
        "outputId": "307be9fe-87fb-4db1-b74f-a4203b3fee61"
      },
      "execution_count": null,
      "outputs": [
        {
          "output_type": "execute_result",
          "data": {
            "text/plain": [
              "[('ca', 121), ('la', 92), ('az', 50)]"
            ]
          },
          "metadata": {},
          "execution_count": 44
        }
      ]
    },
    {
      "cell_type": "code",
      "source": [
        "rdd1.top(3, key = lambda x: x[0])"
      ],
      "metadata": {
        "colab": {
          "base_uri": "https://localhost:8080/"
        },
        "id": "OgLFO3TjS6fD",
        "outputId": "1b0bbb6b-d2e0-4dd9-bdbb-c69637f53fac"
      },
      "execution_count": null,
      "outputs": [
        {
          "output_type": "execute_result",
          "data": {
            "text/plain": [
              "[('zq', 15), ('mn', 39), ('la', 92)]"
            ]
          },
          "metadata": {},
          "execution_count": 45
        }
      ]
    },
    {
      "cell_type": "markdown",
      "source": [
        "filter"
      ],
      "metadata": {
        "id": "w_1Ze-dYT8n9"
      }
    },
    {
      "cell_type": "code",
      "source": [
        "r1 = sc.parallelize([12, 100, 122, 34, 56, 81, 89])"
      ],
      "metadata": {
        "id": "Vw5BbsmbTGnx"
      },
      "execution_count": null,
      "outputs": []
    },
    {
      "cell_type": "code",
      "source": [
        "r1.filter(lambda x: x%2 == 0).collect()"
      ],
      "metadata": {
        "colab": {
          "base_uri": "https://localhost:8080/"
        },
        "id": "rDoOS6XgUFnd",
        "outputId": "bdf83ccd-ae02-45c0-ec04-3ca6fdf2df41"
      },
      "execution_count": null,
      "outputs": [
        {
          "output_type": "execute_result",
          "data": {
            "text/plain": [
              "[12, 100, 122, 34, 56]"
            ]
          },
          "metadata": {},
          "execution_count": 47
        }
      ]
    },
    {
      "cell_type": "code",
      "source": [
        "st = [\"this is my house\",\n",
        "      \"I have  been living  here since 2010\",\n",
        "      \"I will  live here till 2030 \",\n",
        "      \"I finished my     achelor 5 years ago\",\n",
        "      \"I will   finish my phd in 2 years\"]"
      ],
      "metadata": {
        "id": "Ij9Dyn9VUQTl"
      },
      "execution_count": null,
      "outputs": []
    },
    {
      "cell_type": "code",
      "source": [
        "r2 = sc.parallelize(st)"
      ],
      "metadata": {
        "id": "XVIZc1DeUN8a"
      },
      "execution_count": null,
      "outputs": []
    },
    {
      "cell_type": "code",
      "source": [
        "r2.take(3)"
      ],
      "metadata": {
        "colab": {
          "base_uri": "https://localhost:8080/"
        },
        "id": "mk8Yg8ETUsxI",
        "outputId": "bd2b6b90-a8dc-4313-83e3-d74c598fcb01"
      },
      "execution_count": null,
      "outputs": [
        {
          "output_type": "execute_result",
          "data": {
            "text/plain": [
              "['this is my house',\n",
              " 'I have  been living  here since 2010',\n",
              " 'I will  live here till 2030 ']"
            ]
          },
          "metadata": {},
          "execution_count": 50
        }
      ]
    },
    {
      "cell_type": "code",
      "source": [
        "r21 =r2.flatMap(lambda x: x.split(' '))"
      ],
      "metadata": {
        "id": "vgzCLmTsU4eN"
      },
      "execution_count": null,
      "outputs": []
    },
    {
      "cell_type": "code",
      "source": [
        "r21.take(15)"
      ],
      "metadata": {
        "colab": {
          "base_uri": "https://localhost:8080/"
        },
        "id": "5ytLhv8_UuA5",
        "outputId": "8536cd6f-dbb8-42ac-8701-6beca72e79cf"
      },
      "execution_count": null,
      "outputs": [
        {
          "output_type": "execute_result",
          "data": {
            "text/plain": [
              "['this',\n",
              " 'is',\n",
              " 'my',\n",
              " 'house',\n",
              " 'I',\n",
              " 'have',\n",
              " '',\n",
              " 'been',\n",
              " 'living',\n",
              " '',\n",
              " 'here',\n",
              " 'since',\n",
              " '2010',\n",
              " 'I',\n",
              " 'will']"
            ]
          },
          "metadata": {},
          "execution_count": 52
        }
      ]
    },
    {
      "cell_type": "code",
      "source": [
        "r21 = r21.filter(lambda x: x != '')"
      ],
      "metadata": {
        "id": "gwVH-1J4VHOx"
      },
      "execution_count": null,
      "outputs": []
    },
    {
      "cell_type": "code",
      "source": [
        "r21.take(15)"
      ],
      "metadata": {
        "colab": {
          "base_uri": "https://localhost:8080/"
        },
        "id": "tJnD87gmWYUf",
        "outputId": "3551b9d4-cb57-4957-e093-8a99fffb83e3"
      },
      "execution_count": null,
      "outputs": [
        {
          "output_type": "execute_result",
          "data": {
            "text/plain": [
              "['this',\n",
              " 'is',\n",
              " 'my',\n",
              " 'house',\n",
              " 'I',\n",
              " 'have',\n",
              " 'been',\n",
              " 'living',\n",
              " 'here',\n",
              " 'since',\n",
              " '2010',\n",
              " 'I',\n",
              " 'will',\n",
              " 'live',\n",
              " 'here']"
            ]
          },
          "metadata": {},
          "execution_count": 54
        }
      ]
    },
    {
      "cell_type": "code",
      "source": [
        "r21.flatMap(lambda x: x.split(' ')).collect()"
      ],
      "metadata": {
        "colab": {
          "base_uri": "https://localhost:8080/"
        },
        "id": "nfSjzshcWcP0",
        "outputId": "c09afa81-8e9a-4cf1-9434-5cef3f09999f"
      },
      "execution_count": null,
      "outputs": [
        {
          "output_type": "execute_result",
          "data": {
            "text/plain": [
              "['this',\n",
              " 'is',\n",
              " 'my',\n",
              " 'house',\n",
              " 'I',\n",
              " 'have',\n",
              " 'been',\n",
              " 'living',\n",
              " 'here',\n",
              " 'since',\n",
              " '2010',\n",
              " 'I',\n",
              " 'will',\n",
              " 'live',\n",
              " 'here',\n",
              " 'till',\n",
              " '2030',\n",
              " 'I',\n",
              " 'finished',\n",
              " 'my',\n",
              " 'achelor',\n",
              " '5',\n",
              " 'years',\n",
              " 'ago',\n",
              " 'I',\n",
              " 'will',\n",
              " 'finish',\n",
              " 'my',\n",
              " 'phd',\n",
              " 'in',\n",
              " '2',\n",
              " 'years']"
            ]
          },
          "metadata": {},
          "execution_count": 55
        }
      ]
    },
    {
      "cell_type": "markdown",
      "source": [
        "Union"
      ],
      "metadata": {
        "id": "SLaCAbPveXdu"
      }
    },
    {
      "cell_type": "code",
      "source": [
        "rd1 = sc.parallelize([2, 4, 7, 9])\n",
        "rd2 = sc.parallelize([1, 4, 5, 8, 9])"
      ],
      "metadata": {
        "id": "a-3nDan5XeQN"
      },
      "execution_count": null,
      "outputs": []
    },
    {
      "cell_type": "code",
      "source": [
        "rd3 = rd1.union(rd2)"
      ],
      "metadata": {
        "id": "llfUcIEYekQ1"
      },
      "execution_count": null,
      "outputs": []
    },
    {
      "cell_type": "code",
      "source": [
        "rd3.collect()"
      ],
      "metadata": {
        "colab": {
          "base_uri": "https://localhost:8080/"
        },
        "id": "N-E7Uj9GfGri",
        "outputId": "30b9e6e0-b5b0-4684-ec63-3c92aa14d509"
      },
      "execution_count": null,
      "outputs": [
        {
          "output_type": "execute_result",
          "data": {
            "text/plain": [
              "[2, 4, 7, 9, 1, 4, 5, 8, 9]"
            ]
          },
          "metadata": {},
          "execution_count": 58
        }
      ]
    },
    {
      "cell_type": "code",
      "source": [
        "rd3.distinct().collect()"
      ],
      "metadata": {
        "colab": {
          "base_uri": "https://localhost:8080/"
        },
        "id": "78UMifaMelr0",
        "outputId": "5008fc03-ecd6-445a-d9af-fd6dfb62728b"
      },
      "execution_count": null,
      "outputs": [
        {
          "output_type": "execute_result",
          "data": {
            "text/plain": [
              "[4, 8, 9, 1, 5, 2, 7]"
            ]
          },
          "metadata": {},
          "execution_count": 59
        }
      ]
    },
    {
      "cell_type": "code",
      "source": [
        "rd4 = sc.parallelize([1, 4, 2, 1, 5, 4])\n",
        "rd4.distinct().collect()"
      ],
      "metadata": {
        "colab": {
          "base_uri": "https://localhost:8080/"
        },
        "id": "VRdoHBwYjX_e",
        "outputId": "d8f3bc7a-9b8c-4761-957b-ac33ec2cd2c8"
      },
      "execution_count": null,
      "outputs": [
        {
          "output_type": "execute_result",
          "data": {
            "text/plain": [
              "[4, 2, 1, 5]"
            ]
          },
          "metadata": {},
          "execution_count": 112
        }
      ]
    },
    {
      "cell_type": "code",
      "source": [
        "rd1.cartesian(rd1).collect()"
      ],
      "metadata": {
        "colab": {
          "base_uri": "https://localhost:8080/"
        },
        "id": "ejbTm2pkfCin",
        "outputId": "805d6d3a-e561-4266-f73d-27f2fa68fe33"
      },
      "execution_count": null,
      "outputs": [
        {
          "output_type": "execute_result",
          "data": {
            "text/plain": [
              "[(2, 2),\n",
              " (2, 4),\n",
              " (4, 2),\n",
              " (4, 4),\n",
              " (2, 7),\n",
              " (2, 9),\n",
              " (4, 7),\n",
              " (4, 9),\n",
              " (7, 2),\n",
              " (7, 4),\n",
              " (9, 2),\n",
              " (9, 4),\n",
              " (7, 7),\n",
              " (7, 9),\n",
              " (9, 7),\n",
              " (9, 9)]"
            ]
          },
          "metadata": {},
          "execution_count": 60
        }
      ]
    },
    {
      "cell_type": "code",
      "source": [
        "rd11 = sc.parallelize([\"a\", \"b\", \"c\", \"d\", \"e\"])\n",
        "rd22 = sc.parallelize([\"apple\", \"ball\", \"cal\", \"dog\"])"
      ],
      "metadata": {
        "id": "Td938NsefR0M"
      },
      "execution_count": null,
      "outputs": []
    },
    {
      "cell_type": "code",
      "source": [
        ""
      ],
      "metadata": {
        "id": "2ROhK3AZkLVk"
      },
      "execution_count": null,
      "outputs": []
    },
    {
      "cell_type": "code",
      "source": [
        "rdda = sc.parallelize([1, 2, 3, 4, 5])\n",
        "rddb = sc.parallelize([1, 3, 4, 6])"
      ],
      "metadata": {
        "id": "P7R2qPNMsusj"
      },
      "execution_count": null,
      "outputs": []
    },
    {
      "cell_type": "code",
      "source": [
        "rda_11 = rdda.zip(rd11)"
      ],
      "metadata": {
        "id": "dMDzFijathbU"
      },
      "execution_count": null,
      "outputs": []
    },
    {
      "cell_type": "code",
      "source": [
        "rda_11.collect()"
      ],
      "metadata": {
        "colab": {
          "base_uri": "https://localhost:8080/"
        },
        "id": "1YOs6YgCvKYo",
        "outputId": "4e2d68cd-d071-461f-cc55-fbee34188e48"
      },
      "execution_count": null,
      "outputs": [
        {
          "output_type": "execute_result",
          "data": {
            "text/plain": [
              "[(1, 'a'), (2, 'b'), (3, 'c'), (4, 'd'), (5, 'e')]"
            ]
          },
          "metadata": {},
          "execution_count": 64
        }
      ]
    },
    {
      "cell_type": "code",
      "source": [
        "rdb_22 = rddb.zip(rd22)"
      ],
      "metadata": {
        "id": "BNjcx6FTvj9J"
      },
      "execution_count": null,
      "outputs": []
    },
    {
      "cell_type": "code",
      "source": [
        "rdb_22.collect()"
      ],
      "metadata": {
        "colab": {
          "base_uri": "https://localhost:8080/"
        },
        "id": "I3k9q44ZwEBe",
        "outputId": "7b75b505-e858-44d9-cc9a-9891d37f2e4f"
      },
      "execution_count": null,
      "outputs": [
        {
          "output_type": "execute_result",
          "data": {
            "text/plain": [
              "[(1, 'apple'), (3, 'ball'), (4, 'cal'), (6, 'dog')]"
            ]
          },
          "metadata": {},
          "execution_count": 66
        }
      ]
    },
    {
      "cell_type": "code",
      "source": [
        "rda_11.join(rdb_22).collect()"
      ],
      "metadata": {
        "colab": {
          "base_uri": "https://localhost:8080/"
        },
        "id": "cCXa9Lw_wGMd",
        "outputId": "927ae7db-2d3d-4614-8e07-7ebc8294422f"
      },
      "execution_count": null,
      "outputs": [
        {
          "output_type": "execute_result",
          "data": {
            "text/plain": [
              "[(4, ('d', 'cal')), (1, ('a', 'apple')), (3, ('c', 'ball'))]"
            ]
          },
          "metadata": {},
          "execution_count": 67
        }
      ]
    },
    {
      "cell_type": "code",
      "source": [
        "rda_11.leftOuterJoin(rdb_22).collect()"
      ],
      "metadata": {
        "colab": {
          "base_uri": "https://localhost:8080/"
        },
        "id": "0O6rQWFyyrFJ",
        "outputId": "38db623b-46ee-4560-a492-daf59e8da9af"
      },
      "execution_count": null,
      "outputs": [
        {
          "output_type": "execute_result",
          "data": {
            "text/plain": [
              "[(4, ('d', 'cal')),\n",
              " (1, ('a', 'apple')),\n",
              " (5, ('e', None)),\n",
              " (2, ('b', None)),\n",
              " (3, ('c', 'ball'))]"
            ]
          },
          "metadata": {},
          "execution_count": 68
        }
      ]
    },
    {
      "cell_type": "code",
      "source": [
        "rda_11.rightOuterJoin(rdb_22).collect()"
      ],
      "metadata": {
        "id": "LOXGnpXUzDd2",
        "colab": {
          "base_uri": "https://localhost:8080/"
        },
        "outputId": "b142682a-2f81-4d4f-993f-729af67a2932"
      },
      "execution_count": null,
      "outputs": [
        {
          "output_type": "execute_result",
          "data": {
            "text/plain": [
              "[(4, ('d', 'cal')),\n",
              " (1, ('a', 'apple')),\n",
              " (6, (None, 'dog')),\n",
              " (3, ('c', 'ball'))]"
            ]
          },
          "metadata": {},
          "execution_count": 69
        }
      ]
    },
    {
      "cell_type": "code",
      "source": [
        "rda_11.fullOuterJoin(rdb_22).collect()"
      ],
      "metadata": {
        "colab": {
          "base_uri": "https://localhost:8080/"
        },
        "id": "xlVo8n_wcxw5",
        "outputId": "4360eff4-11f6-4596-bf78-1bb092301d87"
      },
      "execution_count": null,
      "outputs": [
        {
          "output_type": "execute_result",
          "data": {
            "text/plain": [
              "[(4, ('d', 'cal')),\n",
              " (1, ('a', 'apple')),\n",
              " (5, ('e', None)),\n",
              " (2, ('b', None)),\n",
              " (6, (None, 'dog')),\n",
              " (3, ('c', 'ball'))]"
            ]
          },
          "metadata": {},
          "execution_count": 70
        }
      ]
    },
    {
      "cell_type": "code",
      "source": [
        "rda_11.join(rdb_22).collect()"
      ],
      "metadata": {
        "colab": {
          "base_uri": "https://localhost:8080/"
        },
        "id": "HYHukNifc58-",
        "outputId": "e5fda89b-69b3-4122-eaa7-e06708321562"
      },
      "execution_count": null,
      "outputs": [
        {
          "output_type": "execute_result",
          "data": {
            "text/plain": [
              "[(4, ('d', 'cal')), (1, ('a', 'apple')), (3, ('c', 'ball'))]"
            ]
          },
          "metadata": {},
          "execution_count": 71
        }
      ]
    },
    {
      "cell_type": "code",
      "source": [
        ""
      ],
      "metadata": {
        "id": "2PI1TfeSc9N_"
      },
      "execution_count": null,
      "outputs": []
    }
  ]
}