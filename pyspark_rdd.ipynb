{
  "nbformat": 4,
  "nbformat_minor": 0,
  "metadata": {
    "colab": {
      "name": "pyspark_rdd.ipynb",
      "provenance": [],
      "authorship_tag": "ABX9TyOSQNJ0O5iROijC/cFsp/pz",
      "include_colab_link": true
    },
    "kernelspec": {
      "name": "python3",
      "display_name": "Python 3"
    },
    "language_info": {
      "name": "python"
    }
  },
  "cells": [
    {
      "cell_type": "markdown",
      "metadata": {
        "id": "view-in-github",
        "colab_type": "text"
      },
      "source": [
        "<a href=\"https://colab.research.google.com/github/rashida048/Big-Data-Anlytics-Pyspark/blob/main/pyspark_rdd.ipynb\" target=\"_parent\"><img src=\"https://colab.research.google.com/assets/colab-badge.svg\" alt=\"Open In Colab\"/></a>"
      ]
    },
    {
      "cell_type": "code",
      "execution_count": 1,
      "metadata": {
        "colab": {
          "base_uri": "https://localhost:8080/"
        },
        "id": "cTVz_J1BUa9P",
        "outputId": "9ee2d948-d44c-42ec-fb51-f592dc3de060"
      },
      "outputs": [
        {
          "output_type": "stream",
          "name": "stdout",
          "text": [
            "Collecting pyspark\n",
            "  Downloading pyspark-3.2.1.tar.gz (281.4 MB)\n",
            "\u001b[K     |████████████████████████████████| 281.4 MB 29 kB/s \n",
            "\u001b[?25hCollecting py4j==0.10.9.3\n",
            "  Downloading py4j-0.10.9.3-py2.py3-none-any.whl (198 kB)\n",
            "\u001b[K     |████████████████████████████████| 198 kB 49.1 MB/s \n",
            "\u001b[?25hBuilding wheels for collected packages: pyspark\n",
            "  Building wheel for pyspark (setup.py) ... \u001b[?25l\u001b[?25hdone\n",
            "  Created wheel for pyspark: filename=pyspark-3.2.1-py2.py3-none-any.whl size=281853642 sha256=0a738ab88df98e2bfe729ecae3593b6a312f8311b02e6be4515850c9a008a72e\n",
            "  Stored in directory: /root/.cache/pip/wheels/9f/f5/07/7cd8017084dce4e93e84e92efd1e1d5334db05f2e83bcef74f\n",
            "Successfully built pyspark\n",
            "Installing collected packages: py4j, pyspark\n",
            "Successfully installed py4j-0.10.9.3 pyspark-3.2.1\n"
          ]
        }
      ],
      "source": [
        "pip install pyspark"
      ]
    },
    {
      "cell_type": "code",
      "source": [
        "import pyspark\n",
        "from pyspark import SparkContext"
      ],
      "metadata": {
        "id": "q7fSH5qkVlw_"
      },
      "execution_count": 2,
      "outputs": []
    },
    {
      "cell_type": "code",
      "source": [
        "sc = SparkContext.getOrCreate()"
      ],
      "metadata": {
        "id": "aWTsERvFVl1n"
      },
      "execution_count": 3,
      "outputs": []
    },
    {
      "cell_type": "code",
      "source": [
        "lines = sc.textFile(\"usa.txt\")"
      ],
      "metadata": {
        "id": "5_U8OzckQEGn"
      },
      "execution_count": 4,
      "outputs": []
    },
    {
      "cell_type": "code",
      "source": [
        "lines.take(4)"
      ],
      "metadata": {
        "colab": {
          "base_uri": "https://localhost:8080/"
        },
        "id": "oPOq58QOQHd6",
        "outputId": "b5743146-e78b-49fb-a903-091e309ac905"
      },
      "execution_count": 5,
      "outputs": [
        {
          "output_type": "execute_result",
          "data": {
            "text/plain": [
              "[\"The United States of America (U.S.A. or USA), commonly known as the United States (U.S. or US) or America, is a country primarily located in North America. It consists of 50 states, a federal district, five major unincorporated territories, 326 Indian reservations, and nine minor outlying islands.[h] At nearly 3.8 million square miles (9.8 million square kilometers), it is the world's third- or fourth-largest country by geographic area.[c] The United States shares land borders with Canada to the north and Mexico to the south as well as maritime borders with the Bahamas, Cuba, Russia, and other countries.[i] With a population of more than 331 million people,[j] it is the third most populous country in the world. The national capital is Washington, D.C., and the most populous city and financial center is New York City.\",\n",
              " '',\n",
              " \"Paleo-Indians migrated from Siberia to the North American mainland at least 12,000 years ago, and European colonization began in the 16th century. The United States emerged from the Thirteen British Colonies established along the East Coast. Disputes with Great Britain over taxation and political representation led to the American Revolutionary War (1775–1783), which established the nation's independence. In the late 18th century, the U.S. began expanding across North America, gradually obtaining new territories, sometimes through war, frequently displacing Native Americans, and admitting new states. This was strongly related to belief in manifest destiny, and by 1848, the United States spanned the continent from east to west. Slavery was legal in the southern United States until the second half of the 19th century, when the American Civil War led to its abolition. The Spanish–American War and World War I established the U.S. as a world power, and the aftermath of World War II left the United States and the Soviet Union as the world's two superpowers. During the Cold War, both sides fought in the Korean and Vietnam Wars but avoided direct military conflict. They competed in the Space Race, culminating in the 1969 American spaceflight that first landed humans on the Moon. The Soviet Union's dissolution in 1991 ended the Cold War, leaving the United States as the world's sole superpower.\",\n",
              " '']"
            ]
          },
          "metadata": {},
          "execution_count": 5
        }
      ]
    },
    {
      "cell_type": "code",
      "source": [
        "words = lines.flatMap(lambda x: x.split(' '))\n",
        "words.take(4)"
      ],
      "metadata": {
        "colab": {
          "base_uri": "https://localhost:8080/"
        },
        "id": "ImTluRdlQIad",
        "outputId": "35eb0efd-1e56-45f6-b072-ee167868ff1c"
      },
      "execution_count": 6,
      "outputs": [
        {
          "output_type": "execute_result",
          "data": {
            "text/plain": [
              "['The', 'United', 'States', 'of']"
            ]
          },
          "metadata": {},
          "execution_count": 6
        }
      ]
    },
    {
      "cell_type": "code",
      "source": [
        "wordsAsTuples = words.map(lambda x: (x, 1))"
      ],
      "metadata": {
        "id": "MwivUXRQQUBR"
      },
      "execution_count": 7,
      "outputs": []
    },
    {
      "cell_type": "code",
      "source": [
        "wordsAsTuples.take(2)"
      ],
      "metadata": {
        "colab": {
          "base_uri": "https://localhost:8080/"
        },
        "id": "VbswERkaQZap",
        "outputId": "0ce2a939-ce22-406d-8ca2-1809087d4084"
      },
      "execution_count": 8,
      "outputs": [
        {
          "output_type": "execute_result",
          "data": {
            "text/plain": [
              "[('The', 1), ('United', 1)]"
            ]
          },
          "metadata": {},
          "execution_count": 8
        }
      ]
    },
    {
      "cell_type": "code",
      "source": [
        "counts = wordsAsTuples.reduceByKey(lambda x, y: x+y)"
      ],
      "metadata": {
        "id": "yuzsZwuaQb-J"
      },
      "execution_count": 9,
      "outputs": []
    },
    {
      "cell_type": "code",
      "source": [
        "\n",
        "counts.take(3)"
      ],
      "metadata": {
        "colab": {
          "base_uri": "https://localhost:8080/"
        },
        "id": "aEKtn6aeQggW",
        "outputId": "f3e3129e-bbf4-4ce0-f4ec-7a4f4c635411"
      },
      "execution_count": 10,
      "outputs": [
        {
          "output_type": "execute_result",
          "data": {
            "text/plain": [
              "[('The', 9), ('United', 14), ('States', 12)]"
            ]
          },
          "metadata": {},
          "execution_count": 10
        }
      ]
    },
    {
      "cell_type": "code",
      "source": [
        "counts.top(10, lambda x: x[1])"
      ],
      "metadata": {
        "colab": {
          "base_uri": "https://localhost:8080/"
        },
        "id": "B_BCyHukQm4-",
        "outputId": "e1bde82b-7a6c-4b42-8467-db8dc9961ae1"
      },
      "execution_count": 11,
      "outputs": [
        {
          "output_type": "execute_result",
          "data": {
            "text/plain": [
              "[('the', 46),\n",
              " ('and', 24),\n",
              " ('of', 20),\n",
              " ('United', 14),\n",
              " ('is', 13),\n",
              " ('a', 13),\n",
              " ('States', 12),\n",
              " ('in', 12),\n",
              " ('The', 9),\n",
              " ('to', 7)]"
            ]
          },
          "metadata": {},
          "execution_count": 11
        }
      ]
    },
    {
      "cell_type": "code",
      "source": [
        "numbers_only = wordsAsTuples.groupByKey().map(lambda x: sum(x[1]))"
      ],
      "metadata": {
        "id": "ZB3ETlOQiZHM"
      },
      "execution_count": 55,
      "outputs": []
    },
    {
      "cell_type": "code",
      "source": [
        "numbers_only.collect()"
      ],
      "metadata": {
        "colab": {
          "base_uri": "https://localhost:8080/"
        },
        "id": "lLUF8ghVeDTe",
        "outputId": "9be6a88d-e203-4b3a-e700-922017f8ac20"
      },
      "execution_count": 56,
      "outputs": [
        {
          "output_type": "execute_result",
          "data": {
            "text/plain": [
              "[9,\n",
              " 14,\n",
              " 12,\n",
              " 20,\n",
              " 1,\n",
              " 1,\n",
              " 6,\n",
              " 1,\n",
              " 2,\n",
              " 13,\n",
              " 3,\n",
              " 1,\n",
              " 12,\n",
              " 3,\n",
              " 3,\n",
              " 1,\n",
              " 1,\n",
              " 1,\n",
              " 1,\n",
              " 1,\n",
              " 1,\n",
              " 1,\n",
              " 2,\n",
              " 1,\n",
              " 1,\n",
              " 6,\n",
              " 1,\n",
              " 1,\n",
              " 1,\n",
              " 1,\n",
              " 1,\n",
              " 1,\n",
              " 2,\n",
              " 3,\n",
              " 2,\n",
              " 2,\n",
              " 1,\n",
              " 1,\n",
              " 2,\n",
              " 2,\n",
              " 1,\n",
              " 1,\n",
              " 1,\n",
              " 1,\n",
              " 1,\n",
              " 3,\n",
              " 1,\n",
              " 5,\n",
              " 1,\n",
              " 2,\n",
              " 1,\n",
              " 1,\n",
              " 1,\n",
              " 1,\n",
              " 1,\n",
              " 3,\n",
              " 1,\n",
              " 1,\n",
              " 1,\n",
              " 1,\n",
              " 1,\n",
              " 2,\n",
              " 1,\n",
              " 1,\n",
              " 1,\n",
              " 1,\n",
              " 1,\n",
              " 1,\n",
              " 2,\n",
              " 1,\n",
              " 1,\n",
              " 1,\n",
              " 1,\n",
              " 2,\n",
              " 1,\n",
              " 1,\n",
              " 1,\n",
              " 1,\n",
              " 1,\n",
              " 1,\n",
              " 1,\n",
              " 1,\n",
              " 1,\n",
              " 1,\n",
              " 1,\n",
              " 1,\n",
              " 1,\n",
              " 1,\n",
              " 3,\n",
              " 2,\n",
              " 1,\n",
              " 1,\n",
              " 1,\n",
              " 1,\n",
              " 1,\n",
              " 2,\n",
              " 1,\n",
              " 1,\n",
              " 1,\n",
              " 1,\n",
              " 1,\n",
              " 1,\n",
              " 1,\n",
              " 1,\n",
              " 1,\n",
              " 1,\n",
              " 1,\n",
              " 1,\n",
              " 1,\n",
              " 1,\n",
              " 1,\n",
              " 1,\n",
              " 1,\n",
              " 1,\n",
              " 1,\n",
              " 1,\n",
              " 1,\n",
              " 1,\n",
              " 1,\n",
              " 1,\n",
              " 1,\n",
              " 1,\n",
              " 1,\n",
              " 1,\n",
              " 1,\n",
              " 1,\n",
              " 1,\n",
              " 1,\n",
              " 1,\n",
              " 1,\n",
              " 1,\n",
              " 1,\n",
              " 1,\n",
              " 1,\n",
              " 1,\n",
              " 1,\n",
              " 1,\n",
              " 1,\n",
              " 1,\n",
              " 1,\n",
              " 1,\n",
              " 1,\n",
              " 1,\n",
              " 1,\n",
              " 1,\n",
              " 1,\n",
              " 1,\n",
              " 1,\n",
              " 1,\n",
              " 1,\n",
              " 1,\n",
              " 1,\n",
              " 1,\n",
              " 1,\n",
              " 1,\n",
              " 1,\n",
              " 1,\n",
              " 2,\n",
              " 1,\n",
              " 1,\n",
              " 1,\n",
              " 1,\n",
              " 1,\n",
              " 1,\n",
              " 1,\n",
              " 1,\n",
              " 1,\n",
              " 1,\n",
              " 1,\n",
              " 1,\n",
              " 1,\n",
              " 1,\n",
              " 1,\n",
              " 1,\n",
              " 1,\n",
              " 4,\n",
              " 1,\n",
              " 46,\n",
              " 1,\n",
              " 13,\n",
              " 1,\n",
              " 1,\n",
              " 1,\n",
              " 2,\n",
              " 1,\n",
              " 1,\n",
              " 2,\n",
              " 1,\n",
              " 24,\n",
              " 1,\n",
              " 1,\n",
              " 1,\n",
              " 1,\n",
              " 1,\n",
              " 1,\n",
              " 3,\n",
              " 1,\n",
              " 6,\n",
              " 5,\n",
              " 1,\n",
              " 1,\n",
              " 1,\n",
              " 2,\n",
              " 4,\n",
              " 1,\n",
              " 7,\n",
              " 1,\n",
              " 1,\n",
              " 1,\n",
              " 1,\n",
              " 1,\n",
              " 1,\n",
              " 1,\n",
              " 2,\n",
              " 1,\n",
              " 1,\n",
              " 2,\n",
              " 1,\n",
              " 1,\n",
              " 1,\n",
              " 1,\n",
              " 3,\n",
              " 1,\n",
              " 1,\n",
              " 1,\n",
              " 2,\n",
              " 1,\n",
              " 1,\n",
              " 1,\n",
              " 1,\n",
              " 1,\n",
              " 1,\n",
              " 1,\n",
              " 1,\n",
              " 2,\n",
              " 1,\n",
              " 5,\n",
              " 1,\n",
              " 1,\n",
              " 1,\n",
              " 2,\n",
              " 2,\n",
              " 1,\n",
              " 1,\n",
              " 1,\n",
              " 1,\n",
              " 1,\n",
              " 1,\n",
              " 1,\n",
              " 1,\n",
              " 1,\n",
              " 1,\n",
              " 1,\n",
              " 1,\n",
              " 1,\n",
              " 1,\n",
              " 1,\n",
              " 4,\n",
              " 1,\n",
              " 1,\n",
              " 1,\n",
              " 1,\n",
              " 2,\n",
              " 1,\n",
              " 2,\n",
              " 1,\n",
              " 1,\n",
              " 1,\n",
              " 3,\n",
              " 1,\n",
              " 1,\n",
              " 1,\n",
              " 1,\n",
              " 1,\n",
              " 1,\n",
              " 1,\n",
              " 1,\n",
              " 1,\n",
              " 1,\n",
              " 1,\n",
              " 1,\n",
              " 1,\n",
              " 1,\n",
              " 2,\n",
              " 1,\n",
              " 1,\n",
              " 1,\n",
              " 2,\n",
              " 1,\n",
              " 1,\n",
              " 1,\n",
              " 1,\n",
              " 2,\n",
              " 1,\n",
              " 1,\n",
              " 1,\n",
              " 1,\n",
              " 1,\n",
              " 1,\n",
              " 1,\n",
              " 2,\n",
              " 1,\n",
              " 1,\n",
              " 1,\n",
              " 1,\n",
              " 1,\n",
              " 1,\n",
              " 1,\n",
              " 2,\n",
              " 3,\n",
              " 1,\n",
              " 1,\n",
              " 1,\n",
              " 1,\n",
              " 1,\n",
              " 1,\n",
              " 1,\n",
              " 1,\n",
              " 1,\n",
              " 1,\n",
              " 1,\n",
              " 1,\n",
              " 1,\n",
              " 1,\n",
              " 1,\n",
              " 1,\n",
              " 1]"
            ]
          },
          "metadata": {},
          "execution_count": 56
        }
      ]
    },
    {
      "cell_type": "code",
      "source": [
        "total_words = numbers_only.reduce(lambda x, y: x+y)"
      ],
      "metadata": {
        "id": "9Wg6hZyFeCAe"
      },
      "execution_count": 57,
      "outputs": []
    },
    {
      "cell_type": "code",
      "source": [
        "total_words"
      ],
      "metadata": {
        "colab": {
          "base_uri": "https://localhost:8080/"
        },
        "id": "KMVABrKSeBiB",
        "outputId": "969cf3bb-a2f6-4a5f-f2c3-e477f6fa8b81"
      },
      "execution_count": 59,
      "outputs": [
        {
          "output_type": "execute_result",
          "data": {
            "text/plain": [
              "575"
            ]
          },
          "metadata": {},
          "execution_count": 59
        }
      ]
    },
    {
      "cell_type": "code",
      "source": [
        "rdd_map = sc.parallelize([(\"a\", [1, 2, 3, 4]), (\"b\", [10, 2, 8, 1])])"
      ],
      "metadata": {
        "id": "3GOUDosQeSGC"
      },
      "execution_count": 60,
      "outputs": []
    },
    {
      "cell_type": "code",
      "source": [
        "rdd_map.mapValues(lambda x: sum(x)).collect()"
      ],
      "metadata": {
        "colab": {
          "base_uri": "https://localhost:8080/"
        },
        "id": "orpW2QUkeSH3",
        "outputId": "41a8c493-5454-4fc7-a7ed-b47f638f65a0"
      },
      "execution_count": 62,
      "outputs": [
        {
          "output_type": "execute_result",
          "data": {
            "text/plain": [
              "[('a', 10), ('b', 21)]"
            ]
          },
          "metadata": {},
          "execution_count": 62
        }
      ]
    },
    {
      "cell_type": "code",
      "source": [
        "sc.parallelize([1, 2, 1, 3, 2, 4, 1, 4, 4]).countByValue()"
      ],
      "metadata": {
        "colab": {
          "base_uri": "https://localhost:8080/"
        },
        "id": "uwoN1Df5eSLX",
        "outputId": "a08f0cff-4966-47b8-a9fc-91e7d3aa1bba"
      },
      "execution_count": 64,
      "outputs": [
        {
          "output_type": "execute_result",
          "data": {
            "text/plain": [
              "defaultdict(int, {1: 3, 2: 2, 3: 1, 4: 3})"
            ]
          },
          "metadata": {},
          "execution_count": 64
        }
      ]
    },
    {
      "cell_type": "markdown",
      "source": [
        "AggregateByKey"
      ],
      "metadata": {
        "id": "hO57YXiG0St-"
      }
    },
    {
      "cell_type": "code",
      "source": [
        "rdd = sc.parallelize([(\"c1\", \"p1\"), (\"c2\", \"p1\"), (\"c1\", \"p1\") , (\"c2\", \"p2\") , (\"c2\", \"p3\")])\n",
        "rdd.collect()"
      ],
      "metadata": {
        "colab": {
          "base_uri": "https://localhost:8080/"
        },
        "id": "r6_lhJOh1Aaf",
        "outputId": "d000fc13-c54c-45f9-c5d1-5a326cb0d756"
      },
      "execution_count": 65,
      "outputs": [
        {
          "output_type": "execute_result",
          "data": {
            "text/plain": [
              "[('c1', 'p1'), ('c2', 'p1'), ('c1', 'p1'), ('c2', 'p2'), ('c2', 'p3')]"
            ]
          },
          "metadata": {},
          "execution_count": 65
        }
      ]
    },
    {
      "cell_type": "code",
      "source": [
        "def mySequenceFunction(x, y):\n",
        "  x.add(y)\n",
        "  return x \n",
        "\n",
        "def myCombinerFunction(x, y): \n",
        "  x.update(y)\n",
        "  return x \n",
        "\n",
        "rdd.aggregateByKey(set([]), mySequenceFunction, myCombinerFunction).collect()"
      ],
      "metadata": {
        "colab": {
          "base_uri": "https://localhost:8080/"
        },
        "id": "2Z2cmyhC0FPh",
        "outputId": "4aea28e1-a668-4fee-9f1d-af78c388c088"
      },
      "execution_count": 66,
      "outputs": [
        {
          "output_type": "execute_result",
          "data": {
            "text/plain": [
              "[('c1', {'p1'}), ('c2', {'p1', 'p2', 'p3'})]"
            ]
          },
          "metadata": {},
          "execution_count": 66
        }
      ]
    },
    {
      "cell_type": "code",
      "source": [
        "data = sc.parallelize([(\"a\",1),(\"b\",2),(\"a\",2),(\"b\",3)])"
      ],
      "metadata": {
        "id": "I4QxKHL-0GPw"
      },
      "execution_count": 80,
      "outputs": []
    },
    {
      "cell_type": "code",
      "source": [
        "data.getNumPartitions()"
      ],
      "metadata": {
        "colab": {
          "base_uri": "https://localhost:8080/"
        },
        "id": "DEfeHB434G8v",
        "outputId": "76116c43-6d17-42f1-a323-f7529dd67ef9"
      },
      "execution_count": 81,
      "outputs": [
        {
          "output_type": "execute_result",
          "data": {
            "text/plain": [
              "2"
            ]
          },
          "metadata": {},
          "execution_count": 81
        }
      ]
    },
    {
      "cell_type": "code",
      "source": [
        "data.glom().collect()"
      ],
      "metadata": {
        "colab": {
          "base_uri": "https://localhost:8080/"
        },
        "id": "IWLQMLl951E7",
        "outputId": "d0b244e7-895a-4678-8e1f-58eae5c0803f"
      },
      "execution_count": 83,
      "outputs": [
        {
          "output_type": "execute_result",
          "data": {
            "text/plain": [
              "[[('a', 1), ('b', 2)], [('a', 2), ('b', 3)]]"
            ]
          },
          "metadata": {},
          "execution_count": 83
        }
      ]
    },
    {
      "cell_type": "code",
      "source": [
        "data.aggregateByKey(0, lambda acc, val: acc+val, lambda acc1,acc2: acc1+acc2).collect()"
      ],
      "metadata": {
        "colab": {
          "base_uri": "https://localhost:8080/"
        },
        "id": "0wdW7YIA45xV",
        "outputId": "803bb7b8-5613-40aa-9825-1407fbd63adb"
      },
      "execution_count": 84,
      "outputs": [
        {
          "output_type": "execute_result",
          "data": {
            "text/plain": [
              "[('b', 5), ('a', 3)]"
            ]
          },
          "metadata": {},
          "execution_count": 84
        }
      ]
    },
    {
      "cell_type": "code",
      "source": [
        ""
      ],
      "metadata": {
        "id": "fN9bnj3g47iB"
      },
      "execution_count": 85,
      "outputs": []
    },
    {
      "cell_type": "code",
      "source": [
        ""
      ],
      "metadata": {
        "id": "9OsgnjQq45gF"
      },
      "execution_count": null,
      "outputs": []
    },
    {
      "cell_type": "code",
      "source": [
        "counts.sortByKey().take(10)"
      ],
      "metadata": {
        "colab": {
          "base_uri": "https://localhost:8080/"
        },
        "id": "0nYj-0vciZDh",
        "outputId": "db84ab1d-5dd3-43f7-c1bd-6743a1cae943"
      },
      "execution_count": 13,
      "outputs": [
        {
          "output_type": "execute_result",
          "data": {
            "text/plain": [
              "[('', 3),\n",
              " ('(1775–1783),', 1),\n",
              " ('(9.8', 1),\n",
              " ('(U.S.', 1),\n",
              " ('(U.S.A.', 1),\n",
              " ('12,000', 1),\n",
              " ('16th', 1),\n",
              " ('1848,', 1),\n",
              " ('18th', 1),\n",
              " ('1969', 1)]"
            ]
          },
          "metadata": {},
          "execution_count": 13
        }
      ]
    },
    {
      "cell_type": "code",
      "source": [
        "counts.sortByKey(False).take(10)"
      ],
      "metadata": {
        "colab": {
          "base_uri": "https://localhost:8080/"
        },
        "id": "Oy9Wy8oyiZBY",
        "outputId": "dac9287f-d90e-45b4-b980-0a9be82a3649"
      },
      "execution_count": 14,
      "outputs": [
        {
          "output_type": "execute_result",
          "data": {
            "text/plain": [
              "[('years', 1),\n",
              " ('world.', 1),\n",
              " ('world,', 1),\n",
              " (\"world's\", 6),\n",
              " ('world', 2),\n",
              " ('with', 4),\n",
              " ('which', 1),\n",
              " ('when', 1),\n",
              " ('west.', 1),\n",
              " ('well', 1)]"
            ]
          },
          "metadata": {},
          "execution_count": 14
        }
      ]
    },
    {
      "cell_type": "code",
      "source": [
        "r1 = [('a', 1), ('B', 2), ('c', 3), ('D', 4), ('e', 5)]"
      ],
      "metadata": {
        "id": "Qm0UVgt2iY_T"
      },
      "execution_count": 15,
      "outputs": []
    },
    {
      "cell_type": "code",
      "source": [
        "r1.extend([('F', 6), ('G', 7), ('h', 8)])"
      ],
      "metadata": {
        "id": "wVOObES-iY9I"
      },
      "execution_count": 16,
      "outputs": []
    },
    {
      "cell_type": "code",
      "source": [
        "r1"
      ],
      "metadata": {
        "colab": {
          "base_uri": "https://localhost:8080/"
        },
        "id": "j4C-QD6MiY6x",
        "outputId": "c53715f8-2438-4684-e233-fadf723403d8"
      },
      "execution_count": 17,
      "outputs": [
        {
          "output_type": "execute_result",
          "data": {
            "text/plain": [
              "[('a', 1),\n",
              " ('B', 2),\n",
              " ('c', 3),\n",
              " ('D', 4),\n",
              " ('e', 5),\n",
              " ('F', 6),\n",
              " ('G', 7),\n",
              " ('h', 8)]"
            ]
          },
          "metadata": {},
          "execution_count": 17
        }
      ]
    },
    {
      "cell_type": "code",
      "source": [
        "sc.parallelize(r1).sortByKey(True, 3, keyfunc=lambda k: k.upper()).collect()"
      ],
      "metadata": {
        "colab": {
          "base_uri": "https://localhost:8080/"
        },
        "id": "p-UvXGE_kQqr",
        "outputId": "3a698323-1f02-41c5-cad9-67a66a2be1b2"
      },
      "execution_count": 18,
      "outputs": [
        {
          "output_type": "execute_result",
          "data": {
            "text/plain": [
              "[('a', 1),\n",
              " ('B', 2),\n",
              " ('c', 3),\n",
              " ('D', 4),\n",
              " ('e', 5),\n",
              " ('F', 6),\n",
              " ('G', 7),\n",
              " ('h', 8)]"
            ]
          },
          "metadata": {},
          "execution_count": 18
        }
      ]
    },
    {
      "cell_type": "code",
      "source": [
        ""
      ],
      "metadata": {
        "id": "dZmhs6FHkQs1"
      },
      "execution_count": 18,
      "outputs": []
    },
    {
      "cell_type": "code",
      "source": [
        ""
      ],
      "metadata": {
        "id": "Y8LXrKNkkQvR"
      },
      "execution_count": 18,
      "outputs": []
    },
    {
      "cell_type": "code",
      "source": [
        ""
      ],
      "metadata": {
        "id": "UTHO5lJpkQyu"
      },
      "execution_count": 18,
      "outputs": []
    },
    {
      "cell_type": "code",
      "source": [
        "counts.filter(lambda x: x[0] != '').top(10, lambda x: x[1])"
      ],
      "metadata": {
        "colab": {
          "base_uri": "https://localhost:8080/"
        },
        "id": "zhZQNGS5QuWh",
        "outputId": "b86de43a-7df6-47b2-8b3f-9d5823907fa9"
      },
      "execution_count": 19,
      "outputs": [
        {
          "output_type": "execute_result",
          "data": {
            "text/plain": [
              "[('the', 46),\n",
              " ('and', 24),\n",
              " ('of', 20),\n",
              " ('United', 14),\n",
              " ('is', 13),\n",
              " ('a', 13),\n",
              " ('States', 12),\n",
              " ('in', 12),\n",
              " ('The', 9),\n",
              " ('to', 7)]"
            ]
          },
          "metadata": {},
          "execution_count": 19
        }
      ]
    },
    {
      "cell_type": "code",
      "source": [
        "sc.parallelize([12, 100, 122, 34, 56, 81, 89]).top(2)"
      ],
      "metadata": {
        "colab": {
          "base_uri": "https://localhost:8080/"
        },
        "id": "_p46NTxpQ37s",
        "outputId": "b365e462-fbb7-40ce-9ed1-10d4b07e9427"
      },
      "execution_count": 20,
      "outputs": [
        {
          "output_type": "execute_result",
          "data": {
            "text/plain": [
              "[122, 100]"
            ]
          },
          "metadata": {},
          "execution_count": 20
        }
      ]
    },
    {
      "cell_type": "code",
      "source": [
        "sc.parallelize([12, 100, 122, 34, 56, 81, 89]).top(2, key=str)"
      ],
      "metadata": {
        "colab": {
          "base_uri": "https://localhost:8080/"
        },
        "id": "aZv1VsAhSPMe",
        "outputId": "3f818c7a-bc8b-4166-8045-b10a1d2731f6"
      },
      "execution_count": 21,
      "outputs": [
        {
          "output_type": "execute_result",
          "data": {
            "text/plain": [
              "[89, 81]"
            ]
          },
          "metadata": {},
          "execution_count": 21
        }
      ]
    },
    {
      "cell_type": "code",
      "source": [
        "rdd1 = sc.parallelize([('az', 50), ('zq',15 ), ('ap', 10), ('ca', 121),\n",
        "                       ('la', 92), ('mn', 39)])"
      ],
      "metadata": {
        "id": "ZFC38GL2SaaU"
      },
      "execution_count": 22,
      "outputs": []
    },
    {
      "cell_type": "code",
      "source": [
        "rdd1.top(3)"
      ],
      "metadata": {
        "colab": {
          "base_uri": "https://localhost:8080/"
        },
        "id": "fdjsYX5HTQx6",
        "outputId": "103d3095-62c8-44e1-8ea2-7fad3af34581"
      },
      "execution_count": 23,
      "outputs": [
        {
          "output_type": "execute_result",
          "data": {
            "text/plain": [
              "[('zq', 15), ('mn', 39), ('la', 92)]"
            ]
          },
          "metadata": {},
          "execution_count": 23
        }
      ]
    },
    {
      "cell_type": "code",
      "source": [
        "rdd1.top(3, key = str)"
      ],
      "metadata": {
        "colab": {
          "base_uri": "https://localhost:8080/"
        },
        "id": "M4XESy6VTUmT",
        "outputId": "26ba7361-545e-40ef-8c35-2735da791812"
      },
      "execution_count": 24,
      "outputs": [
        {
          "output_type": "execute_result",
          "data": {
            "text/plain": [
              "[('zq', 15), ('mn', 39), ('la', 92)]"
            ]
          },
          "metadata": {},
          "execution_count": 24
        }
      ]
    },
    {
      "cell_type": "code",
      "source": [
        "rdd1.top(3, key = lambda x: x[1])"
      ],
      "metadata": {
        "colab": {
          "base_uri": "https://localhost:8080/"
        },
        "id": "8s_XJPHvSp2w",
        "outputId": "8fcf800f-1516-4595-815c-9a788139f9b2"
      },
      "execution_count": 25,
      "outputs": [
        {
          "output_type": "execute_result",
          "data": {
            "text/plain": [
              "[('ca', 121), ('la', 92), ('az', 50)]"
            ]
          },
          "metadata": {},
          "execution_count": 25
        }
      ]
    },
    {
      "cell_type": "code",
      "source": [
        "rdd1.top(3, key = lambda x: x[0])"
      ],
      "metadata": {
        "colab": {
          "base_uri": "https://localhost:8080/"
        },
        "id": "OgLFO3TjS6fD",
        "outputId": "457290bb-ab1d-4887-b7bc-82546ebca7bd"
      },
      "execution_count": 26,
      "outputs": [
        {
          "output_type": "execute_result",
          "data": {
            "text/plain": [
              "[('zq', 15), ('mn', 39), ('la', 92)]"
            ]
          },
          "metadata": {},
          "execution_count": 26
        }
      ]
    },
    {
      "cell_type": "markdown",
      "source": [
        "filter"
      ],
      "metadata": {
        "id": "w_1Ze-dYT8n9"
      }
    },
    {
      "cell_type": "code",
      "source": [
        "r1 = sc.parallelize([12, 100, 122, 34, 56, 81, 89])"
      ],
      "metadata": {
        "id": "Vw5BbsmbTGnx"
      },
      "execution_count": 27,
      "outputs": []
    },
    {
      "cell_type": "code",
      "source": [
        "r1.filter(lambda x: x%2 == 0).collect()"
      ],
      "metadata": {
        "colab": {
          "base_uri": "https://localhost:8080/"
        },
        "id": "rDoOS6XgUFnd",
        "outputId": "a9123ef3-3e27-4703-8742-e12d3241ffa0"
      },
      "execution_count": 28,
      "outputs": [
        {
          "output_type": "execute_result",
          "data": {
            "text/plain": [
              "[12, 100, 122, 34, 56]"
            ]
          },
          "metadata": {},
          "execution_count": 28
        }
      ]
    },
    {
      "cell_type": "code",
      "source": [
        "st = [\"this is my house\",\n",
        "      \"I have  been living  here since 2010\",\n",
        "      \"I will  live here till 2030 \",\n",
        "      \"I finished my     achelor 5 years ago\",\n",
        "      \"I will   finish my phd in 2 years\"]"
      ],
      "metadata": {
        "id": "Ij9Dyn9VUQTl"
      },
      "execution_count": 29,
      "outputs": []
    },
    {
      "cell_type": "code",
      "source": [
        "r2 = sc.parallelize(st)"
      ],
      "metadata": {
        "id": "XVIZc1DeUN8a"
      },
      "execution_count": 30,
      "outputs": []
    },
    {
      "cell_type": "code",
      "source": [
        "r2.take(3)"
      ],
      "metadata": {
        "colab": {
          "base_uri": "https://localhost:8080/"
        },
        "id": "mk8Yg8ETUsxI",
        "outputId": "7ff13119-460c-4875-ef91-fc142891d169"
      },
      "execution_count": 31,
      "outputs": [
        {
          "output_type": "execute_result",
          "data": {
            "text/plain": [
              "['this is my house',\n",
              " 'I have  been living  here since 2010',\n",
              " 'I will  live here till 2030 ']"
            ]
          },
          "metadata": {},
          "execution_count": 31
        }
      ]
    },
    {
      "cell_type": "code",
      "source": [
        "r21 =r2.flatMap(lambda x: x.split(' '))"
      ],
      "metadata": {
        "id": "vgzCLmTsU4eN"
      },
      "execution_count": 32,
      "outputs": []
    },
    {
      "cell_type": "code",
      "source": [
        "r21.take(15)"
      ],
      "metadata": {
        "colab": {
          "base_uri": "https://localhost:8080/"
        },
        "id": "5ytLhv8_UuA5",
        "outputId": "1bc3077e-d4bc-496b-a0d8-96b2b8cfd526"
      },
      "execution_count": 33,
      "outputs": [
        {
          "output_type": "execute_result",
          "data": {
            "text/plain": [
              "['this',\n",
              " 'is',\n",
              " 'my',\n",
              " 'house',\n",
              " 'I',\n",
              " 'have',\n",
              " '',\n",
              " 'been',\n",
              " 'living',\n",
              " '',\n",
              " 'here',\n",
              " 'since',\n",
              " '2010',\n",
              " 'I',\n",
              " 'will']"
            ]
          },
          "metadata": {},
          "execution_count": 33
        }
      ]
    },
    {
      "cell_type": "code",
      "source": [
        "r21 = r21.filter(lambda x: x != '')"
      ],
      "metadata": {
        "id": "gwVH-1J4VHOx"
      },
      "execution_count": 34,
      "outputs": []
    },
    {
      "cell_type": "code",
      "source": [
        "r21.take(15)"
      ],
      "metadata": {
        "colab": {
          "base_uri": "https://localhost:8080/"
        },
        "id": "tJnD87gmWYUf",
        "outputId": "0b46a5d7-8640-49e7-c956-0d2dd5d2768a"
      },
      "execution_count": 35,
      "outputs": [
        {
          "output_type": "execute_result",
          "data": {
            "text/plain": [
              "['this',\n",
              " 'is',\n",
              " 'my',\n",
              " 'house',\n",
              " 'I',\n",
              " 'have',\n",
              " 'been',\n",
              " 'living',\n",
              " 'here',\n",
              " 'since',\n",
              " '2010',\n",
              " 'I',\n",
              " 'will',\n",
              " 'live',\n",
              " 'here']"
            ]
          },
          "metadata": {},
          "execution_count": 35
        }
      ]
    },
    {
      "cell_type": "code",
      "source": [
        "r21.flatMap(lambda x: x.split(' ')).collect()"
      ],
      "metadata": {
        "colab": {
          "base_uri": "https://localhost:8080/"
        },
        "id": "nfSjzshcWcP0",
        "outputId": "640c2a9a-96db-43a1-b1c1-20a83bf8a282"
      },
      "execution_count": 36,
      "outputs": [
        {
          "output_type": "execute_result",
          "data": {
            "text/plain": [
              "['this',\n",
              " 'is',\n",
              " 'my',\n",
              " 'house',\n",
              " 'I',\n",
              " 'have',\n",
              " 'been',\n",
              " 'living',\n",
              " 'here',\n",
              " 'since',\n",
              " '2010',\n",
              " 'I',\n",
              " 'will',\n",
              " 'live',\n",
              " 'here',\n",
              " 'till',\n",
              " '2030',\n",
              " 'I',\n",
              " 'finished',\n",
              " 'my',\n",
              " 'achelor',\n",
              " '5',\n",
              " 'years',\n",
              " 'ago',\n",
              " 'I',\n",
              " 'will',\n",
              " 'finish',\n",
              " 'my',\n",
              " 'phd',\n",
              " 'in',\n",
              " '2',\n",
              " 'years']"
            ]
          },
          "metadata": {},
          "execution_count": 36
        }
      ]
    },
    {
      "cell_type": "markdown",
      "source": [
        "Union"
      ],
      "metadata": {
        "id": "SLaCAbPveXdu"
      }
    },
    {
      "cell_type": "code",
      "source": [
        "rd1 = sc.parallelize([2, 4, 7, 9])\n",
        "rd2 = sc.parallelize([1, 4, 5, 8, 9])"
      ],
      "metadata": {
        "id": "a-3nDan5XeQN"
      },
      "execution_count": 37,
      "outputs": []
    },
    {
      "cell_type": "code",
      "source": [
        "rd3 = rd1.union(rd2)"
      ],
      "metadata": {
        "id": "llfUcIEYekQ1"
      },
      "execution_count": 38,
      "outputs": []
    },
    {
      "cell_type": "code",
      "source": [
        "rd3.collect()"
      ],
      "metadata": {
        "colab": {
          "base_uri": "https://localhost:8080/"
        },
        "id": "N-E7Uj9GfGri",
        "outputId": "c768504d-bb18-4115-89ca-d674ec7fef47"
      },
      "execution_count": 39,
      "outputs": [
        {
          "output_type": "execute_result",
          "data": {
            "text/plain": [
              "[2, 4, 7, 9, 1, 4, 5, 8, 9]"
            ]
          },
          "metadata": {},
          "execution_count": 39
        }
      ]
    },
    {
      "cell_type": "code",
      "source": [
        "rd3.distinct().collect()"
      ],
      "metadata": {
        "colab": {
          "base_uri": "https://localhost:8080/"
        },
        "id": "78UMifaMelr0",
        "outputId": "3c735c6a-0e84-4e41-ef55-8db8bd3505e3"
      },
      "execution_count": 40,
      "outputs": [
        {
          "output_type": "execute_result",
          "data": {
            "text/plain": [
              "[4, 8, 9, 1, 5, 2, 7]"
            ]
          },
          "metadata": {},
          "execution_count": 40
        }
      ]
    },
    {
      "cell_type": "code",
      "source": [
        "rd1.cartesian(rd1).collect()"
      ],
      "metadata": {
        "colab": {
          "base_uri": "https://localhost:8080/"
        },
        "id": "ejbTm2pkfCin",
        "outputId": "fcb976ef-ea81-437f-d1c1-260b3cc41547"
      },
      "execution_count": 41,
      "outputs": [
        {
          "output_type": "execute_result",
          "data": {
            "text/plain": [
              "[(2, 2),\n",
              " (2, 4),\n",
              " (4, 2),\n",
              " (4, 4),\n",
              " (2, 7),\n",
              " (2, 9),\n",
              " (4, 7),\n",
              " (4, 9),\n",
              " (7, 2),\n",
              " (7, 4),\n",
              " (9, 2),\n",
              " (9, 4),\n",
              " (7, 7),\n",
              " (7, 9),\n",
              " (9, 7),\n",
              " (9, 9)]"
            ]
          },
          "metadata": {},
          "execution_count": 41
        }
      ]
    },
    {
      "cell_type": "code",
      "source": [
        "rd11 = sc.parallelize([\"a\", \"b\", \"c\", \"d\", \"e\"])\n",
        "rd22 = sc.parallelize([\"apple\", \"ball\", \"cal\", \"dog\"])"
      ],
      "metadata": {
        "id": "Td938NsefR0M"
      },
      "execution_count": 42,
      "outputs": []
    },
    {
      "cell_type": "code",
      "source": [
        "rdda = sc.parallelize([1, 2, 3, 4, 5])\n",
        "rddb = sc.parallelize([1, 3, 4, 6])"
      ],
      "metadata": {
        "id": "P7R2qPNMsusj"
      },
      "execution_count": 43,
      "outputs": []
    },
    {
      "cell_type": "code",
      "source": [
        "rda_11 = rdda.zip(rd11)"
      ],
      "metadata": {
        "id": "dMDzFijathbU"
      },
      "execution_count": 44,
      "outputs": []
    },
    {
      "cell_type": "code",
      "source": [
        "rda_11.collect()"
      ],
      "metadata": {
        "colab": {
          "base_uri": "https://localhost:8080/"
        },
        "id": "1YOs6YgCvKYo",
        "outputId": "c78eb7a8-ce57-4e2e-b846-a41be10c30ed"
      },
      "execution_count": 45,
      "outputs": [
        {
          "output_type": "execute_result",
          "data": {
            "text/plain": [
              "[(1, 'a'), (2, 'b'), (3, 'c'), (4, 'd'), (5, 'e')]"
            ]
          },
          "metadata": {},
          "execution_count": 45
        }
      ]
    },
    {
      "cell_type": "code",
      "source": [
        "rdb_22 = rddb.zip(rd22)"
      ],
      "metadata": {
        "id": "BNjcx6FTvj9J"
      },
      "execution_count": 46,
      "outputs": []
    },
    {
      "cell_type": "code",
      "source": [
        "rdb_22.collect()"
      ],
      "metadata": {
        "colab": {
          "base_uri": "https://localhost:8080/"
        },
        "id": "I3k9q44ZwEBe",
        "outputId": "087c15f9-f298-4527-c688-a5915e3aa35a"
      },
      "execution_count": 47,
      "outputs": [
        {
          "output_type": "execute_result",
          "data": {
            "text/plain": [
              "[(1, 'apple'), (3, 'ball'), (4, 'cal'), (6, 'dog')]"
            ]
          },
          "metadata": {},
          "execution_count": 47
        }
      ]
    },
    {
      "cell_type": "code",
      "source": [
        "\n",
        "rda_11.join(rdb_22).collect()"
      ],
      "metadata": {
        "colab": {
          "base_uri": "https://localhost:8080/"
        },
        "id": "cCXa9Lw_wGMd",
        "outputId": "7d6d5aaa-93d2-4bf2-d787-c512301391cc"
      },
      "execution_count": 48,
      "outputs": [
        {
          "output_type": "execute_result",
          "data": {
            "text/plain": [
              "[(4, ('d', 'cal')), (1, ('a', 'apple')), (3, ('c', 'ball'))]"
            ]
          },
          "metadata": {},
          "execution_count": 48
        }
      ]
    },
    {
      "cell_type": "code",
      "source": [
        "rda_11.leftOuterJoin(rdb_22).collect()"
      ],
      "metadata": {
        "colab": {
          "base_uri": "https://localhost:8080/"
        },
        "id": "0O6rQWFyyrFJ",
        "outputId": "93a1f320-09c2-4a52-e098-d965d1737e2e"
      },
      "execution_count": 49,
      "outputs": [
        {
          "output_type": "execute_result",
          "data": {
            "text/plain": [
              "[(4, ('d', 'cal')),\n",
              " (1, ('a', 'apple')),\n",
              " (5, ('e', None)),\n",
              " (2, ('b', None)),\n",
              " (3, ('c', 'ball'))]"
            ]
          },
          "metadata": {},
          "execution_count": 49
        }
      ]
    },
    {
      "cell_type": "code",
      "source": [
        "rda_11.rightOuterJoin(rdb_22).collect()"
      ],
      "metadata": {
        "id": "LOXGnpXUzDd2",
        "colab": {
          "base_uri": "https://localhost:8080/"
        },
        "outputId": "758830af-8e25-4b49-feb4-549276874f10"
      },
      "execution_count": 51,
      "outputs": [
        {
          "output_type": "execute_result",
          "data": {
            "text/plain": [
              "[(4, ('d', 'cal')),\n",
              " (1, ('a', 'apple')),\n",
              " (6, (None, 'dog')),\n",
              " (3, ('c', 'ball'))]"
            ]
          },
          "metadata": {},
          "execution_count": 51
        }
      ]
    },
    {
      "cell_type": "code",
      "source": [
        "rda_11.fullOuterJoin(rdb_22).collect()"
      ],
      "metadata": {
        "colab": {
          "base_uri": "https://localhost:8080/"
        },
        "id": "xlVo8n_wcxw5",
        "outputId": "25b3d257-8cdb-4904-e0be-7776c874b50a"
      },
      "execution_count": 52,
      "outputs": [
        {
          "output_type": "execute_result",
          "data": {
            "text/plain": [
              "[(4, ('d', 'cal')),\n",
              " (1, ('a', 'apple')),\n",
              " (5, ('e', None)),\n",
              " (2, ('b', None)),\n",
              " (6, (None, 'dog')),\n",
              " (3, ('c', 'ball'))]"
            ]
          },
          "metadata": {},
          "execution_count": 52
        }
      ]
    },
    {
      "cell_type": "code",
      "source": [
        "rda_11.join(rdb_22).collect()"
      ],
      "metadata": {
        "colab": {
          "base_uri": "https://localhost:8080/"
        },
        "id": "HYHukNifc58-",
        "outputId": "dcac275d-75dd-4fdc-f702-05722d88417b"
      },
      "execution_count": 53,
      "outputs": [
        {
          "output_type": "execute_result",
          "data": {
            "text/plain": [
              "[(4, ('d', 'cal')), (1, ('a', 'apple')), (3, ('c', 'ball'))]"
            ]
          },
          "metadata": {},
          "execution_count": 53
        }
      ]
    },
    {
      "cell_type": "code",
      "source": [
        ""
      ],
      "metadata": {
        "id": "2PI1TfeSc9N_"
      },
      "execution_count": null,
      "outputs": []
    }
  ]
}