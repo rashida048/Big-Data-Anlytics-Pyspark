{
 "cells": [
  {
   "cell_type": "code",
   "execution_count": 29,
   "metadata": {},
   "outputs": [],
   "source": [
    "import pyspark\n",
    "import findspark\n",
    "findspark.init()\n",
    "from pyspark import SparkContext\n",
    "\n",
    "#import wget\n",
    "\n",
    "#wget.download(\"https://s3.amazonaws.com/metcs777/taxi-data-sorted-small.csv.bz2\")\n",
    "sc = SparkContext.getOrCreate()  \n",
    "\n",
    "def isfloat(value):\n",
    "    try:\n",
    "        float(value)\n",
    "        return True\n",
    "    except:\n",
    "        return False\n",
    "    \n",
    "\n",
    "def correctRows(p):\n",
    "    if(len(p)==17):\n",
    "        if(isfloat(p[5]) and isfloat(p[11])):\n",
    "            if(float(p[5]) !=0 and float(p[11]) !=0):\n",
    "                return p\n",
    "\n",
    "#Getting the Data            \n",
    "lines = sc.textFile(\"taxi-data-sorted-small.csv.bz2\")\n",
    "\n",
    "words = lines.map(lambda x: x.split(','))\n",
    "\n",
    "#Data Cleaning\n",
    "wordsCorr = words.filter(lambda x: correctRows(x))\n",
    "    \n",
    "wordsAstuples = words.map(lambda x: (x[0], [x[1], 1]))\n",
    "    \n",
    "medDriver = wordsAstuples.map(lambda x: (x[0], x[1][1]))\n",
    "    \n",
    "counts = medDriver.reduceByKey(lambda x, y: x+y)\n",
    "    \n",
    "top10 = counts.top(10, lambda x: x[1])"
   ]
  },
  {
   "cell_type": "code",
   "execution_count": 30,
   "metadata": {},
   "outputs": [
    {
     "data": {
      "text/plain": [
       "[('6FFCF7A4F34BA44239636028E680E438', 585),\n",
       " ('D5C7CD37EA4D372D00F0A681CDC93F11', 569),\n",
       " ('849E486825860106403FB991A763BCC3', 558),\n",
       " ('A979CDA04CFB8BA3D3ACBA7E8D7F0661', 553),\n",
       " ('DA1A4CB0E75444C73D1D1633E701206E', 550),\n",
       " ('A532B1493C4DD88C450F6796369EAA6F', 545),\n",
       " ('818B2426C5493017D5CFE68EFD34617E', 539),\n",
       " ('FF40FB8123940D9F96D33EDA1D92A83C', 536),\n",
       " ('075E4BFE6607421289B566A32BC135E5', 535),\n",
       " ('1A50563CC49E045A115AE0BA61BE4658', 531)]"
      ]
     },
     "execution_count": 30,
     "metadata": {},
     "output_type": "execute_result"
    }
   ],
   "source": [
    "top10"
   ]
  },
  {
   "cell_type": "code",
   "execution_count": 12,
   "metadata": {},
   "outputs": [],
   "source": [
    "def zero_check(x):\n",
    "    if (x == 0): \n",
    "        return 0.0001\n",
    "    else:\n",
    "        return x"
   ]
  },
  {
   "cell_type": "code",
   "execution_count": 13,
   "metadata": {},
   "outputs": [],
   "source": [
    "drive_mon = words.map(lambda x: (x[1], (float(x[14])) + float(x[16])))\n",
    "drive_time = words.map(lambda x: (x[1], float(x[4])/60))\n",
    "mon_total = drive_mon.reduceByKey(lambda x, y: x+y)\n",
    "time_total = drive_time.reduceByKey(lambda x, y: x+y)"
   ]
  },
  {
   "cell_type": "code",
   "execution_count": 19,
   "metadata": {},
   "outputs": [
    {
     "data": {
      "text/plain": [
       "[('778C92B26AE78A9EBDF96B49C67E4007', 1500.4600000000003),\n",
       " ('25BA06A87905667AA1FE5990E33F0E2E', 2922.26)]"
      ]
     },
     "execution_count": 19,
     "metadata": {},
     "output_type": "execute_result"
    }
   ],
   "source": [
    "mon_total.take(2)"
   ]
  },
  {
   "cell_type": "code",
   "execution_count": 22,
   "metadata": {},
   "outputs": [],
   "source": [
    "mon_total_cor = mon_total.map(lambda x: (x[0], zero_check(x[1])))\n",
    "time_total_cor = time_total.map(lambda x: (x[0], zero_check(x[1])))"
   ]
  },
  {
   "cell_type": "code",
   "execution_count": 23,
   "metadata": {},
   "outputs": [],
   "source": [
    "mon_time = mon_total_cor.join(time_total_cor)\n",
    "average = mon_time.map(lambda x: (x[0], x[1][0]/x[1][1]))"
   ]
  },
  {
   "cell_type": "code",
   "execution_count": 24,
   "metadata": {},
   "outputs": [
    {
     "data": {
      "text/plain": [
       "[('778C92B26AE78A9EBDF96B49C67E4007', 1500.4600000000003),\n",
       " ('25BA06A87905667AA1FE5990E33F0E2E', 2922.26)]"
      ]
     },
     "execution_count": 24,
     "metadata": {},
     "output_type": "execute_result"
    }
   ],
   "source": [
    "mon_total_cor.take(2)"
   ]
  },
  {
   "cell_type": "code",
   "execution_count": 25,
   "metadata": {},
   "outputs": [
    {
     "data": {
      "text/plain": [
       "[('778C92B26AE78A9EBDF96B49C67E4007', (1500.4600000000003, 1037.0)),\n",
       " ('25BA06A87905667AA1FE5990E33F0E2E', (2922.26, 2514.0))]"
      ]
     },
     "execution_count": 25,
     "metadata": {},
     "output_type": "execute_result"
    }
   ],
   "source": [
    "mon_time.take(2)"
   ]
  },
  {
   "cell_type": "code",
   "execution_count": 31,
   "metadata": {},
   "outputs": [],
   "source": [
    "top10_average = average.top(10, lambda x: x[1])"
   ]
  },
  {
   "cell_type": "code",
   "execution_count": 28,
   "metadata": {},
   "outputs": [
    {
     "data": {
      "text/plain": [
       "[('778C92B26AE78A9EBDF96B49C67E4007', 1.4469238187078113),\n",
       " ('25BA06A87905667AA1FE5990E33F0E2E', 1.1623945902943518),\n",
       " ('577D1B6729EF9014CDBC949554EB4483', 1.504027027027027)]"
      ]
     },
     "execution_count": 28,
     "metadata": {},
     "output_type": "execute_result"
    }
   ],
   "source": [
    "average.take(3)"
   ]
  },
  {
   "cell_type": "code",
   "execution_count": 32,
   "metadata": {},
   "outputs": [
    {
     "data": {
      "text/plain": [
       "[('F90DB0A8AD3F7A013C54E2DCD6A34AFA', 525000.0),\n",
       " ('73E45DAAA5E37264D19AF79422C33D34', 110000.0),\n",
       " ('7BD4876222813A92A8389D03EEE7B1FF', 60000.0),\n",
       " ('9C3CCC83B0486021F0A16A68951F53CA', 40000.0),\n",
       " ('6789302E98F439768EF7D0CC22666B92', 35000.0),\n",
       " ('0C7717E4EE9A0079B47E975417279255', 35000.0),\n",
       " ('689153C038F51E19A47257E15DF838BD', 35000.0),\n",
       " ('610F4C786A28108FEE10A5A5F5DBEE7F', 30000.0),\n",
       " ('E65E9C993E76354E84ABFE5295F121E2', 30000.0),\n",
       " ('1AAAB8B74F8E2D79C8C5B0BAB486704D', 30000.0)]"
      ]
     },
     "execution_count": 32,
     "metadata": {},
     "output_type": "execute_result"
    }
   ],
   "source": [
    "top10_average"
   ]
  },
  {
   "cell_type": "code",
   "execution_count": null,
   "metadata": {},
   "outputs": [],
   "source": []
  }
 ],
 "metadata": {
  "kernelspec": {
   "display_name": "Python 3",
   "language": "python",
   "name": "python3"
  },
  "language_info": {
   "codemirror_mode": {
    "name": "ipython",
    "version": 3
   },
   "file_extension": ".py",
   "mimetype": "text/x-python",
   "name": "python",
   "nbconvert_exporter": "python",
   "pygments_lexer": "ipython3",
   "version": "3.8.5"
  }
 },
 "nbformat": 4,
 "nbformat_minor": 4
}
